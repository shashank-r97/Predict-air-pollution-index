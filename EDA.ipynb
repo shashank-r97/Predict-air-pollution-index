{
 "cells": [
  {
   "cell_type": "code",
   "execution_count": 1,
   "metadata": {},
   "outputs": [
    {
     "name": "stderr",
     "output_type": "stream",
     "text": [
      "C:\\ProgramData\\Anaconda3\\lib\\site-packages\\tqdm\\std.py:658: FutureWarning: The Panel class is removed from pandas. Accessing it from the top-level namespace will also be removed in the next version\n",
      "  from pandas import Panel\n",
      "C:\\ProgramData\\Anaconda3\\lib\\site-packages\\sklearn\\utils\\deprecation.py:144: FutureWarning: The sklearn.metrics.classification module is  deprecated in version 0.22 and will be removed in version 0.24. The corresponding classes / functions should instead be imported from sklearn.metrics. Anything that cannot be imported from sklearn.metrics is now part of the private API.\n",
      "  warnings.warn(message, FutureWarning)\n"
     ]
    }
   ],
   "source": [
    "import numpy as np\n",
    "import pandas as pd\n",
    "from tqdm.auto import tqdm\n",
    "tqdm.pandas()\n",
    "import matplotlib.pyplot as plt\n",
    "import seaborn as sns\n",
    "from sklearn.model_selection import train_test_split\n",
    "from sklearn.linear_model import LinearRegression\n",
    "from yellowbrick.regressor import PredictionError\n",
    "pd.set_option('display.max_columns', None)\n",
    "pd.set_option('display.max_rows', None)"
   ]
  },
  {
   "cell_type": "code",
   "execution_count": 2,
   "metadata": {},
   "outputs": [
    {
     "name": "stdout",
     "output_type": "stream",
     "text": [
      "Wall time: 3.02 s\n"
     ]
    }
   ],
   "source": [
    "%%time\n",
    "ticket_scans = pd.read_csv('Data/Ticket Scan Data.csv')\n",
    "game_data = pd.read_csv('Data/Game Data.csv')\n",
    "team_data = pd.read_csv('Data/Team Data.csv')\n",
    "section_data = pd.read_csv('Data/Seating Chart.csv')"
   ]
  },
  {
   "cell_type": "code",
   "execution_count": 3,
   "metadata": {},
   "outputs": [
    {
     "data": {
      "text/html": [
       "<div>\n",
       "<style scoped>\n",
       "    .dataframe tbody tr th:only-of-type {\n",
       "        vertical-align: middle;\n",
       "    }\n",
       "\n",
       "    .dataframe tbody tr th {\n",
       "        vertical-align: top;\n",
       "    }\n",
       "\n",
       "    .dataframe thead th {\n",
       "        text-align: right;\n",
       "    }\n",
       "</style>\n",
       "<table border=\"1\" class=\"dataframe\">\n",
       "  <thead>\n",
       "    <tr style=\"text-align: right;\">\n",
       "      <th></th>\n",
       "      <th>scan_unique_id</th>\n",
       "      <th>event_name</th>\n",
       "      <th>event_datetime</th>\n",
       "      <th>section_name</th>\n",
       "      <th>row_name</th>\n",
       "      <th>seat_number</th>\n",
       "      <th>scan_gate</th>\n",
       "      <th>scan_location</th>\n",
       "      <th>scan_datetime</th>\n",
       "    </tr>\n",
       "  </thead>\n",
       "  <tbody>\n",
       "    <tr>\n",
       "      <th>0</th>\n",
       "      <td>124908643:19208870</td>\n",
       "      <td>LA Clippers 2018-2019 Game 14 - Dallas - 12/20/18</td>\n",
       "      <td>2018-12-20 19:30:00</td>\n",
       "      <td>332</td>\n",
       "      <td>8</td>\n",
       "      <td>23</td>\n",
       "      <td>11th Street - Door 1</td>\n",
       "      <td>STAPLES Center (Premium)</td>\n",
       "      <td>2018-12-20 20:50:45</td>\n",
       "    </tr>\n",
       "    <tr>\n",
       "      <th>1</th>\n",
       "      <td>124908643:19309978</td>\n",
       "      <td>LA Clippers 2018-2019 Game 23 - Utah - 01/16/19</td>\n",
       "      <td>2019-01-16 19:30:00</td>\n",
       "      <td>304</td>\n",
       "      <td>8</td>\n",
       "      <td>16</td>\n",
       "      <td>11th Street - Door 2</td>\n",
       "      <td>STAPLES Center (Premium)</td>\n",
       "      <td>2019-01-16 21:02:08</td>\n",
       "    </tr>\n",
       "    <tr>\n",
       "      <th>2</th>\n",
       "      <td>124908643:19198830</td>\n",
       "      <td>LA Clippers 2018-2019 Game 13 - Portland - 12/...</td>\n",
       "      <td>2018-12-17 19:30:00</td>\n",
       "      <td>207</td>\n",
       "      <td>10</td>\n",
       "      <td>15</td>\n",
       "      <td>Star Plaza - Door 1</td>\n",
       "      <td>STAPLES Center (Premium)</td>\n",
       "      <td>2018-12-17 20:54:52</td>\n",
       "    </tr>\n",
       "    <tr>\n",
       "      <th>3</th>\n",
       "      <td>124908643:19233811</td>\n",
       "      <td>LA Clippers 2018-2019 Game 16 - Sacramento - 1...</td>\n",
       "      <td>2018-12-26 19:30:00</td>\n",
       "      <td>107</td>\n",
       "      <td>D</td>\n",
       "      <td>6</td>\n",
       "      <td>Figueroa - Door 4</td>\n",
       "      <td>STAPLES Center (Premium)</td>\n",
       "      <td>2018-12-26 21:07:30</td>\n",
       "    </tr>\n",
       "    <tr>\n",
       "      <th>4</th>\n",
       "      <td>124908643:19215364</td>\n",
       "      <td>LA Clippers 2018-2019 Game 14 - Dallas - 12/20/18</td>\n",
       "      <td>2018-12-20 19:30:00</td>\n",
       "      <td>107</td>\n",
       "      <td>10</td>\n",
       "      <td>13</td>\n",
       "      <td>Star Plaza - Door 6</td>\n",
       "      <td>STAPLES Center (Premium)</td>\n",
       "      <td>2018-12-20 21:55:18</td>\n",
       "    </tr>\n",
       "  </tbody>\n",
       "</table>\n",
       "</div>"
      ],
      "text/plain": [
       "       scan_unique_id                                         event_name  \\\n",
       "0  124908643:19208870  LA Clippers 2018-2019 Game 14 - Dallas - 12/20/18   \n",
       "1  124908643:19309978    LA Clippers 2018-2019 Game 23 - Utah - 01/16/19   \n",
       "2  124908643:19198830  LA Clippers 2018-2019 Game 13 - Portland - 12/...   \n",
       "3  124908643:19233811  LA Clippers 2018-2019 Game 16 - Sacramento - 1...   \n",
       "4  124908643:19215364  LA Clippers 2018-2019 Game 14 - Dallas - 12/20/18   \n",
       "\n",
       "        event_datetime  section_name row_name  seat_number  \\\n",
       "0  2018-12-20 19:30:00           332        8           23   \n",
       "1  2019-01-16 19:30:00           304        8           16   \n",
       "2  2018-12-17 19:30:00           207       10           15   \n",
       "3  2018-12-26 19:30:00           107        D            6   \n",
       "4  2018-12-20 19:30:00           107       10           13   \n",
       "\n",
       "              scan_gate             scan_location        scan_datetime  \n",
       "0  11th Street - Door 1  STAPLES Center (Premium)  2018-12-20 20:50:45  \n",
       "1  11th Street - Door 2  STAPLES Center (Premium)  2019-01-16 21:02:08  \n",
       "2   Star Plaza - Door 1  STAPLES Center (Premium)  2018-12-17 20:54:52  \n",
       "3     Figueroa - Door 4  STAPLES Center (Premium)  2018-12-26 21:07:30  \n",
       "4   Star Plaza - Door 6  STAPLES Center (Premium)  2018-12-20 21:55:18  "
      ]
     },
     "execution_count": 3,
     "metadata": {},
     "output_type": "execute_result"
    }
   ],
   "source": [
    "ticket_scans.head()"
   ]
  },
  {
   "cell_type": "code",
   "execution_count": null,
   "metadata": {},
   "outputs": [
    {
     "data": {
      "application/vnd.jupyter.widget-view+json": {
       "model_id": "89f615603bba4c6c939d439e604ef0c0",
       "version_major": 2,
       "version_minor": 0
      },
      "text/plain": [
       "HBox(children=(FloatProgress(value=0.0, max=345473.0), HTML(value='')))"
      ]
     },
     "metadata": {},
     "output_type": "display_data"
    }
   ],
   "source": [
    "ticket_scans['scan_datetime'] = pd.to_datetime(ticket_scans['scan_datetime'])\n",
    "ticket_scans['event_datetime'] = pd.to_datetime(ticket_scans['event_datetime'])\n",
    "ticket_scans['time_diff'] = (ticket_scans['scan_datetime'] - ticket_scans['event_datetime']).progress_apply(lambda x: int(x.total_seconds() //60))\n",
    "def get_timebin(x):\n",
    "    if x >= 0:\n",
    "        return f'{(x//15+1)*15}-{x//15*15} Before'\n",
    "    else:\n",
    "        x = -1 * x\n",
    "        return f'{(x//15+1)*15}-{x//15*15} After'\n",
    "    \n",
    "ticket_scans['time_diff'] = ticket_scans['time_diff'].progress_apply(get_timebin)"
   ]
  },
  {
   "cell_type": "code",
   "execution_count": null,
   "metadata": {},
   "outputs": [],
   "source": [
    "time_period = ticket_scans['time_diff'].unique().tolist()"
   ]
  },
  {
   "cell_type": "code",
   "execution_count": null,
   "metadata": {},
   "outputs": [],
   "source": [
    "ticket_scans = pd.get_dummies(ticket_scans, columns=['time_diff'])"
   ]
  },
  {
   "cell_type": "code",
   "execution_count": null,
   "metadata": {},
   "outputs": [],
   "source": [
    "ticket_scans.columns = [column.replace('time_diff_', '') for column in ticket_scans.columns]\n",
    "ticket_scans['scan_unique_id'] = 1"
   ]
  },
  {
   "cell_type": "code",
   "execution_count": null,
   "metadata": {},
   "outputs": [],
   "source": [
    "ticket_scans.head()"
   ]
  },
  {
   "cell_type": "code",
   "execution_count": null,
   "metadata": {},
   "outputs": [],
   "source": [
    "%%time\n",
    "ticket_scans['City'] = ticket_scans['event_name'].progress_apply(lambda x: x.split('-')[-2][1:-1])\n",
    "ticket_scans['event_datetime'] = ticket_scans['event_datetime'].dt.normalize()\n",
    "ticket_scans = ticket_scans.groupby(['City', 'event_datetime', 'section_name'])[time_period+['scan_unique_id']].sum().reset_index().rename(columns = {'scan_unique_id':'attendees'})\n",
    "ticket_scans.head()"
   ]
  },
  {
   "cell_type": "code",
   "execution_count": null,
   "metadata": {},
   "outputs": [],
   "source": [
    "section_names = list(map(lambda x: str(x), ticket_scans['section_name'].unique()))"
   ]
  },
  {
   "cell_type": "code",
   "execution_count": null,
   "metadata": {},
   "outputs": [],
   "source": [
    "%%time\n",
    "section_dict = {}\n",
    "for i in tqdm(range(59)):\n",
    "    section_dict[int(ticket_scans['section_name'].tolist()[i::59][0])] = ticket_scans['attendees'].tolist()[i::59]\n",
    "\n",
    "section_dict = pd.DataFrame(section_dict)\n",
    "section_dict.head()"
   ]
  },
  {
   "cell_type": "code",
   "execution_count": null,
   "metadata": {},
   "outputs": [],
   "source": [
    "%%time\n",
    "ticket_scans = ticket_scans.groupby(['City', 'event_datetime'])[time_period+['attendees']].sum().reset_index()\n",
    "for key in tqdm(section_dict.columns):\n",
    "    ticket_scans[key] = section_dict[key]\n",
    "ticket_scans.head()"
   ]
  },
  {
   "cell_type": "code",
   "execution_count": null,
   "metadata": {},
   "outputs": [],
   "source": [
    "%%time\n",
    "ticket_scans['City'] = ticket_scans['City'].replace('Golden State', 'Oakland')"
   ]
  },
  {
   "cell_type": "code",
   "execution_count": null,
   "metadata": {},
   "outputs": [],
   "source": [
    "%%time\n",
    "df = ticket_scans.merge(team_data[team_data['Team Full Name'] != 'Los Angeles Clippers'], on = 'City', how = 'left')\n",
    "df['event_datetime'] = pd.to_datetime(df['event_datetime'])\n",
    "df.head()"
   ]
  },
  {
   "cell_type": "code",
   "execution_count": null,
   "metadata": {},
   "outputs": [],
   "source": [
    "df.columns = list(map(lambda x: str(x), df.keys()))"
   ]
  },
  {
   "cell_type": "code",
   "execution_count": null,
   "metadata": {},
   "outputs": [],
   "source": [
    "%%time\n",
    "game_data['Date'] = pd.to_datetime(game_data['Date'], format  = '%a, %b %d, %Y')"
   ]
  },
  {
   "cell_type": "code",
   "execution_count": null,
   "metadata": {},
   "outputs": [],
   "source": [
    "df = df.merge(game_data, left_on = ['event_datetime', 'Team Full Name'], right_on = ['Date', 'Opponent'], how = 'left')"
   ]
  },
  {
   "cell_type": "code",
   "execution_count": null,
   "metadata": {},
   "outputs": [],
   "source": [
    "df.isna().sum()[df.isna().sum()>0]"
   ]
  },
  {
   "cell_type": "code",
   "execution_count": null,
   "metadata": {},
   "outputs": [],
   "source": [
    "section = section_data.groupby('section_name')['seat_count'].sum().reset_index().transpose()\n",
    "section.columns = section.iloc[0]\n",
    "section = section.drop(section.index[0])"
   ]
  },
  {
   "cell_type": "code",
   "execution_count": null,
   "metadata": {},
   "outputs": [],
   "source": [
    "for key in tqdm(section.keys()):\n",
    "    if key in df.keys():\n",
    "        df[key] = df[key] / section[key][0] * 100"
   ]
  },
  {
   "cell_type": "code",
   "execution_count": null,
   "metadata": {},
   "outputs": [],
   "source": [
    "df.head()"
   ]
  },
  {
   "cell_type": "code",
   "execution_count": null,
   "metadata": {},
   "outputs": [],
   "source": [
    "%%time\n",
    "df['week_day'] = df['event_datetime'].dt.day_name()\n",
    "cats = [ 'Monday', 'Tuesday', 'Wednesday', 'Thursday', 'Friday', 'Saturday', 'Sunday']\n",
    "week_day = df.groupby('week_day')['attendees'].mean().reindex(cats).reset_index()\n",
    "weekends = week_day[week_day['week_day'].isin(['Friday', 'Saturday', 'Sunday'])]"
   ]
  },
  {
   "cell_type": "code",
   "execution_count": null,
   "metadata": {},
   "outputs": [],
   "source": [
    "df['is_weekend'] = df['week_day'].apply(lambda x: 'Weekend' if x in ['Friday', 'Saturday', 'Sunday'] else 'Weekday')\n",
    "weekend = df.groupby('is_weekend')['attendees'].mean().reset_index()\n",
    "print(weekend)"
   ]
  },
  {
   "cell_type": "code",
   "execution_count": null,
   "metadata": {},
   "outputs": [],
   "source": [
    "plt.figure(figsize = (10,8))\n",
    "bar = plt.bar(weekend['is_weekend'], weekend['attendees'])\n",
    "bar[1].set_color('r')\n",
    "plt.axhline(y = weekend['attendees'].mean(), color = 'grey', linestyle = '--', linewidth = 1.5)\n",
    "plt.title('Average Attendance by Whether its a Weekend or not')\n",
    "plt.ylabel('Average Attendance')\n",
    "plt.xlabel('Weekend or Weekday')\n",
    "plt.plot()"
   ]
  },
  {
   "cell_type": "code",
   "execution_count": null,
   "metadata": {},
   "outputs": [],
   "source": [
    "plt.figure(figsize = (10,8))\n",
    "ax = plt.gca()\n",
    "plt.bar(week_day['week_day'], week_day['attendees'], label = 'Weekday')\n",
    "plt.bar(weekends['week_day'], weekends['attendees'], color = 'red', label = 'Weekend')\n",
    "plt.axhline(y = 8356.272727, color = 'grey', linestyle = '-.', linewidth = 2, label = 'Weekday Average')\n",
    "plt.axhline(y = 8507.105263, color = 'grey', linestyle = ':', linewidth = 2, label = 'Weekend Average')\n",
    "plt.title('Average Attendance by Day of Week')\n",
    "plt.ylabel('Average Attendance')\n",
    "plt.xlabel('Day of Week')\n",
    "plt.legend()\n",
    "plt.show()"
   ]
  },
  {
   "cell_type": "code",
   "execution_count": null,
   "metadata": {},
   "outputs": [],
   "source": [
    "df.head()"
   ]
  },
  {
   "cell_type": "code",
   "execution_count": null,
   "metadata": {},
   "outputs": [],
   "source": [
    "top4_attendance = df.groupby('Opponent')['attendees'].mean().reset_index().sort_values(by = 'attendees', ascending = False).head(4)\n",
    "top4_attendance = top4_attendance.reset_index(drop = True)\n",
    "top4_attendance"
   ]
  },
  {
   "cell_type": "code",
   "execution_count": null,
   "metadata": {},
   "outputs": [],
   "source": [
    "plt.figure(figsize = (10,8))\n",
    "plt.bar(top4_attendance['Opponent'], top4_attendance['attendees'], color = sns.color_palette('Set1'))\n",
    "plt.axhline(y = top4_attendance['attendees'].mean(), color = 'grey', linestyle = ':', linewidth = 1.5)\n",
    "plt.title('Top 4 Opponents with Highest Average Attendance')\n",
    "plt.ylabel('Average Attendance')\n",
    "plt.xlabel(\"Team played Against\")\n",
    "plt.show()"
   ]
  },
  {
   "cell_type": "code",
   "execution_count": null,
   "metadata": {},
   "outputs": [],
   "source": [
    "top10_sections = df[section_names].mean().reset_index().sort_values(by = 0, ascending = False).head(10)\n",
    "top10_sections = top10_sections.rename(columns = {'index': 'section_name', 0: 'percentage_filled'}).reset_index(drop = True)\n",
    "top10_sections = top10_sections.reset_index().rename(columns = {'index': 'rank'})\n",
    "top10_sections['rank'] = top10_sections['rank'] + 1\n",
    "top10_sections"
   ]
  },
  {
   "cell_type": "code",
   "execution_count": null,
   "metadata": {},
   "outputs": [],
   "source": [
    "plt.figure(figsize = (10,8))\n",
    "plt.bar(top10_sections['section_name'], top10_sections['percentage_filled'], color = sns.color_palette(\"GnBu_d\"))\n",
    "plt.axhline(y = top10_sections['percentage_filled'].mean(), color = 'grey', linestyle = '--', linewidth = 1.5)\n",
    "ax = plt.gca()\n",
    "vals = ax.get_yticks()\n",
    "vals = [str(int(val))+'%' for val in vals]\n",
    "ax.set_yticklabels(vals)\n",
    "plt.title('Top 10 Sections most filled to their capacity on an Average')\n",
    "plt.ylabel('Average Percentage Filled')\n",
    "plt.xlabel('Section Names')\n",
    "plt.show()"
   ]
  },
  {
   "cell_type": "code",
   "execution_count": null,
   "metadata": {},
   "outputs": [],
   "source": [
    "df.head()"
   ]
  },
  {
   "cell_type": "code",
   "execution_count": null,
   "metadata": {},
   "outputs": [],
   "source": [
    "df['attendees'].corr(df['Vegas Odds for 1819'])"
   ]
  },
  {
   "cell_type": "code",
   "execution_count": null,
   "metadata": {},
   "outputs": [],
   "source": [
    "plt.figure(figsize = (10,8))\n",
    "plt.scatter(df['attendees'], df['Vegas Odds for 1819'])\n",
    "plt.show()"
   ]
  },
  {
   "cell_type": "code",
   "execution_count": null,
   "metadata": {},
   "outputs": [],
   "source": [
    "X = df[['Vegas Odds for 1819']]\n",
    "y = df['attendees']\n",
    "X_train, X_test, y_train, y_test = train_test_split(X, y, test_size=0.1, random_state=42)\n",
    "\n",
    "plt.figure(figsize = (10,8))\n",
    "ax = plt.gca()\n",
    "\n",
    "model = LinearRegression(n_jobs = -1, normalize = True)\n",
    "visualizer = PredictionError(model, ax = ax)\n",
    "visualizer.fit(X_train, y_train)  \n",
    "visualizer.score(X_test, y_test)  \n",
    "visualizer.show()\n",
    "plt.show()"
   ]
  },
  {
   "cell_type": "code",
   "execution_count": null,
   "metadata": {},
   "outputs": [],
   "source": [
    "top10_time_period = df[time_period].mean().reset_index().rename(columns = {'index': 'time_period', 0: 'avg_number_of_scans'}).sort_values(by = 'avg_number_of_scans', ascending = False).head(10)\n",
    "top10_time_period.head(1)"
   ]
  },
  {
   "cell_type": "code",
   "execution_count": null,
   "metadata": {},
   "outputs": [],
   "source": [
    "plt.figure(figsize = (10, 8))\n",
    "plt.bar(top10_time_period['time_period'], top10_time_period['avg_number_of_scans'], color = sns.color_palette(\"GnBu_d\"))\n",
    "plt.xticks(rotation=45)\n",
    "plt.title('Average number of tickets scaned in 15 minute windows')\n",
    "plt.xlabel('15 minute windows')\n",
    "plt.ylabel('Average number of scans')\n",
    "plt.show()"
   ]
  }
 ],
 "metadata": {
  "kernelspec": {
   "display_name": "Python 3",
   "language": "python",
   "name": "python3"
  },
  "language_info": {
   "codemirror_mode": {
    "name": "ipython",
    "version": 3
   },
   "file_extension": ".py",
   "mimetype": "text/x-python",
   "name": "python",
   "nbconvert_exporter": "python",
   "pygments_lexer": "ipython3",
   "version": "3.7.6"
  }
 },
 "nbformat": 4,
 "nbformat_minor": 4
}
