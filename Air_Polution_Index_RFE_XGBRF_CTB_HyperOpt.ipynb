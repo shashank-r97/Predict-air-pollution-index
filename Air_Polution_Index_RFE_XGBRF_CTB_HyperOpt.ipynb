{
  "nbformat": 4,
  "nbformat_minor": 0,
  "metadata": {
    "accelerator": "GPU",
    "colab": {
      "name": "Air_Polution_Index_RFE_XGBRF_CTB_HyperOpt.ipynb",
      "provenance": [],
      "collapsed_sections": []
    },
    "kernelspec": {
      "display_name": "Python",
      "language": "python",
      "name": "conda-env-python-py"
    },
    "language_info": {
      "codemirror_mode": {
        "name": "ipython",
        "version": 3
      },
      "file_extension": ".py",
      "mimetype": "text/x-python",
      "name": "python",
      "nbconvert_exporter": "python",
      "pygments_lexer": "ipython3",
      "version": "3.6.7"
    }
  },
  "cells": [
    {
      "cell_type": "code",
      "metadata": {
        "id": "tNzmnWJHEf3a",
        "colab_type": "code",
        "colab": {}
      },
      "source": [
        "#from google.colab import drive\n",
        "#drive.mount('/content/drive')"
      ],
      "execution_count": 0,
      "outputs": []
    },
    {
      "cell_type": "code",
      "metadata": {
        "id": "ll9CKFA6EkUn",
        "colab_type": "code",
        "colab": {}
      },
      "source": [
        "#!unzip \"/content/drive/My Drive/Data/fc33077e-6-dataset.zip\""
      ],
      "execution_count": 0,
      "outputs": []
    },
    {
      "cell_type": "code",
      "metadata": {
        "id": "ThbBk6e3J8PK",
        "colab_type": "code",
        "colab": {
          "base_uri": "https://localhost:8080/",
          "height": 382
        },
        "outputId": "b196b240-b021-4834-bbcb-a6bb46e809dd"
      },
      "source": [
        "!pip install catboost"
      ],
      "execution_count": 36,
      "outputs": [
        {
          "output_type": "stream",
          "text": [
            "Collecting catboost\n",
            "\u001b[?25l  Downloading https://files.pythonhosted.org/packages/94/ec/12b9a42b2ea7dfe5b602f235692ab2b61ee1334ff34334a15902272869e8/catboost-0.22-cp36-none-manylinux1_x86_64.whl (64.4MB)\n",
            "\u001b[K     |████████████████████████████████| 64.4MB 48kB/s \n",
            "\u001b[?25hRequirement already satisfied: plotly in /usr/local/lib/python3.6/dist-packages (from catboost) (4.4.1)\n",
            "Requirement already satisfied: pandas>=0.24.0 in /usr/local/lib/python3.6/dist-packages (from catboost) (1.0.3)\n",
            "Requirement already satisfied: numpy>=1.16.0 in /usr/local/lib/python3.6/dist-packages (from catboost) (1.18.2)\n",
            "Requirement already satisfied: graphviz in /usr/local/lib/python3.6/dist-packages (from catboost) (0.10.1)\n",
            "Requirement already satisfied: scipy in /usr/local/lib/python3.6/dist-packages (from catboost) (1.4.1)\n",
            "Requirement already satisfied: matplotlib in /usr/local/lib/python3.6/dist-packages (from catboost) (3.2.1)\n",
            "Requirement already satisfied: six in /usr/local/lib/python3.6/dist-packages (from catboost) (1.12.0)\n",
            "Requirement already satisfied: retrying>=1.3.3 in /usr/local/lib/python3.6/dist-packages (from plotly->catboost) (1.3.3)\n",
            "Requirement already satisfied: python-dateutil>=2.6.1 in /usr/local/lib/python3.6/dist-packages (from pandas>=0.24.0->catboost) (2.8.1)\n",
            "Requirement already satisfied: pytz>=2017.2 in /usr/local/lib/python3.6/dist-packages (from pandas>=0.24.0->catboost) (2018.9)\n",
            "Requirement already satisfied: cycler>=0.10 in /usr/local/lib/python3.6/dist-packages (from matplotlib->catboost) (0.10.0)\n",
            "Requirement already satisfied: pyparsing!=2.0.4,!=2.1.2,!=2.1.6,>=2.0.1 in /usr/local/lib/python3.6/dist-packages (from matplotlib->catboost) (2.4.6)\n",
            "Requirement already satisfied: kiwisolver>=1.0.1 in /usr/local/lib/python3.6/dist-packages (from matplotlib->catboost) (1.1.0)\n",
            "Requirement already satisfied: setuptools in /usr/local/lib/python3.6/dist-packages (from kiwisolver>=1.0.1->matplotlib->catboost) (46.0.0)\n",
            "Installing collected packages: catboost\n",
            "Successfully installed catboost-0.22\n"
          ],
          "name": "stdout"
        }
      ]
    },
    {
      "cell_type": "code",
      "metadata": {
        "id": "mBOhQzzMJi4c",
        "colab_type": "code",
        "colab": {
          "base_uri": "https://localhost:8080/",
          "height": 308
        },
        "outputId": "1e314a47-1200-42ea-88c7-2e430a8a8a15"
      },
      "source": [
        "gpu_info = !nvidia-smi\n",
        "gpu_info = '\\n'.join(gpu_info)\n",
        "if gpu_info.find('failed') >= 0:\n",
        "  print('Select the Runtime → \"Change runtime type\" menu to enable a GPU accelerator, ')\n",
        "  print('and then re-execute this cell.')\n",
        "else:\n",
        "  print(gpu_info)"
      ],
      "execution_count": 35,
      "outputs": [
        {
          "output_type": "stream",
          "text": [
            "Sat Apr  4 03:05:31 2020       \n",
            "+-----------------------------------------------------------------------------+\n",
            "| NVIDIA-SMI 440.64.00    Driver Version: 418.67       CUDA Version: 10.1     |\n",
            "|-------------------------------+----------------------+----------------------+\n",
            "| GPU  Name        Persistence-M| Bus-Id        Disp.A | Volatile Uncorr. ECC |\n",
            "| Fan  Temp  Perf  Pwr:Usage/Cap|         Memory-Usage | GPU-Util  Compute M. |\n",
            "|===============================+======================+======================|\n",
            "|   0  Tesla P4            Off  | 00000000:00:04.0 Off |                    0 |\n",
            "| N/A   51C    P0    24W /  75W |   2043MiB /  7611MiB |      0%      Default |\n",
            "+-------------------------------+----------------------+----------------------+\n",
            "                                                                               \n",
            "+-----------------------------------------------------------------------------+\n",
            "| Processes:                                                       GPU Memory |\n",
            "|  GPU       PID   Type   Process name                             Usage      |\n",
            "|=============================================================================|\n",
            "+-----------------------------------------------------------------------------+\n"
          ],
          "name": "stdout"
        }
      ]
    },
    {
      "cell_type": "code",
      "metadata": {
        "colab_type": "code",
        "id": "Up_4b76uuJr1",
        "colab": {}
      },
      "source": [
        "import pandas as pd\n",
        "import numpy as np\n",
        "from sklearn.feature_selection import VarianceThreshold\n",
        "from sklearn.feature_selection import SelectFromModel\n",
        "from sklearn.feature_selection import RFE\n",
        "from sklearn.metrics import mean_squared_error\n",
        "from hyperopt import hp\n",
        "import gc\n",
        "import xgboost as xgb\n",
        "import catboost as ctb\n",
        "from sklearn.metrics import mean_absolute_error\n",
        "from hyperopt import fmin, tpe, STATUS_OK, STATUS_FAIL, Trials\n",
        "pd.set_option('display.max_columns',None)\n",
        "pd.set_option('display.max_rows',None)"
      ],
      "execution_count": 0,
      "outputs": []
    },
    {
      "cell_type": "code",
      "metadata": {
        "colab_type": "code",
        "id": "ZtUeeGCmuT_U",
        "outputId": "126a3500-0a44-4f23-815d-19e4b627bf6e",
        "colab": {
          "base_uri": "https://localhost:8080/",
          "height": 53
        }
      },
      "source": [
        "%%time\n",
        "train = pd.read_csv('/content/dataset/train.csv')"
      ],
      "execution_count": 4,
      "outputs": [
        {
          "output_type": "stream",
          "text": [
            "CPU times: user 42.7 ms, sys: 15.9 ms, total: 58.6 ms\n",
            "Wall time: 59.3 ms\n"
          ],
          "name": "stdout"
        }
      ]
    },
    {
      "cell_type": "code",
      "metadata": {
        "colab_type": "code",
        "id": "ZUKL0icnuaxw",
        "colab": {}
      },
      "source": [
        "X = train.drop(columns = ['air_pollution_index'])\n",
        "y = train['air_pollution_index']"
      ],
      "execution_count": 0,
      "outputs": []
    },
    {
      "cell_type": "code",
      "metadata": {
        "colab_type": "code",
        "id": "TTA4pBy0pEh9",
        "outputId": "4090f549-237e-4e98-e60d-a13abd75bc40",
        "colab": {
          "base_uri": "https://localhost:8080/",
          "height": 35
        }
      },
      "source": [
        "X.shape"
      ],
      "execution_count": 6,
      "outputs": [
        {
          "output_type": "execute_result",
          "data": {
            "text/plain": [
              "(33750, 13)"
            ]
          },
          "metadata": {
            "tags": []
          },
          "execution_count": 6
        }
      ]
    },
    {
      "cell_type": "code",
      "metadata": {
        "colab_type": "code",
        "id": "gKo9jksxpGAI",
        "colab": {}
      },
      "source": [
        "def prepare_df(train):\n",
        "    org_keys = train.columns.tolist()\n",
        "    \n",
        "    train['is_holiday'] = np.where(train['is_holiday'] == 'None', False, True)\n",
        "    train['date_time'] = pd.to_datetime(train['date_time'])\n",
        "    \n",
        "    train.set_index('date_time', inplace = True)\n",
        "    \n",
        "    days = ['01d', '03d', '07d', '14d', '30d']\n",
        "    \n",
        "    sum_attributes = ['is_holiday', 'rain_p_h', 'snow_p_h']\n",
        "\n",
        "    for val in sum_attributes:\n",
        "        for day in days:\n",
        "            train['num_'+val+'_'+day] = train.rolling(day)[val].sum()\n",
        "            \n",
        "    weather_types = train['weather_type'].unique().tolist()\n",
        "    for weather in weather_types:\n",
        "        train[weather] = np.where(train['weather_type'] == weather, 1, 0)\n",
        "    \n",
        "    train.drop(columns = 'weather_type', inplace = True)\n",
        "    \n",
        "    avg_attributes = ['humidity', 'wind_speed', 'wind_direction', 'visibility_in_miles', 'dew_point', 'temperature', \n",
        "                     'rain_p_h', 'snow_p_h', 'clouds_all', 'traffic_volume'] + weather_types\n",
        "\n",
        "    for val in avg_attributes:\n",
        "        for day in days:\n",
        "            train['avg_'+val+'_'+day] = train.rolling(day)[val].mean()\n",
        "            \n",
        "    for column in train.columns:\n",
        "        if 'avg' in column:\n",
        "            train[column+'_diff'] = train[column[4:-4]] - train[column]\n",
        "            \n",
        "    return train.reset_index()"
      ],
      "execution_count": 0,
      "outputs": []
    },
    {
      "cell_type": "code",
      "metadata": {
        "colab_type": "code",
        "id": "iw-sixOlpJDQ",
        "outputId": "7d3cf795-48d0-4235-ec74-d29fee493f0d",
        "colab": {
          "base_uri": "https://localhost:8080/",
          "height": 53
        }
      },
      "source": [
        "%%time\n",
        "X = prepare_df(X.copy())"
      ],
      "execution_count": 8,
      "outputs": [
        {
          "output_type": "stream",
          "text": [
            "CPU times: user 586 ms, sys: 71.1 ms, total: 657 ms\n",
            "Wall time: 657 ms\n"
          ],
          "name": "stdout"
        }
      ]
    },
    {
      "cell_type": "code",
      "metadata": {
        "colab_type": "code",
        "id": "i9XEUAnLpK2E",
        "outputId": "3a72a513-39e7-4bb1-af6d-62fc0244e011",
        "colab": {
          "base_uri": "https://localhost:8080/",
          "height": 35
        }
      },
      "source": [
        "X.shape"
      ],
      "execution_count": 9,
      "outputs": [
        {
          "output_type": "execute_result",
          "data": {
            "text/plain": [
              "(33750, 248)"
            ]
          },
          "metadata": {
            "tags": []
          },
          "execution_count": 9
        }
      ]
    },
    {
      "cell_type": "code",
      "metadata": {
        "colab_type": "code",
        "id": "HD1k1nnquYRi",
        "colab": {}
      },
      "source": [
        "X['date_time'] = X['date_time'].dt.hour"
      ],
      "execution_count": 0,
      "outputs": []
    },
    {
      "cell_type": "code",
      "metadata": {
        "colab_type": "code",
        "id": "XpVMv1h49T-k",
        "outputId": "2d3ae43e-c061-40bc-c016-cd1a4e367cc4",
        "colab": {
          "base_uri": "https://localhost:8080/",
          "height": 53
        }
      },
      "source": [
        "%%time\n",
        "selector = VarianceThreshold(0.1)\n",
        "selector.fit(X)"
      ],
      "execution_count": 11,
      "outputs": [
        {
          "output_type": "stream",
          "text": [
            "CPU times: user 382 ms, sys: 86.6 ms, total: 469 ms\n",
            "Wall time: 471 ms\n"
          ],
          "name": "stdout"
        }
      ]
    },
    {
      "cell_type": "code",
      "metadata": {
        "colab_type": "code",
        "id": "We0anDMR9UPA",
        "colab": {}
      },
      "source": [
        "sel = X.columns[selector.get_support(indices=True)]"
      ],
      "execution_count": 0,
      "outputs": []
    },
    {
      "cell_type": "code",
      "metadata": {
        "colab_type": "code",
        "id": "CIdGsDI89UJu",
        "colab": {}
      },
      "source": [
        "X = X[sel]"
      ],
      "execution_count": 0,
      "outputs": []
    },
    {
      "cell_type": "code",
      "metadata": {
        "colab_type": "code",
        "id": "H1E0GKB4uSVO",
        "colab": {}
      },
      "source": [
        "rfe = RFE(xgb.XGBRFRegressor(ojective = 'reg:squarederror', tree_method = 'gpu_hist'), step = 1, verbose = 2)"
      ],
      "execution_count": 0,
      "outputs": []
    },
    {
      "cell_type": "code",
      "metadata": {
        "colab_type": "code",
        "id": "goyESr0quSRi",
        "outputId": "02ef7d68-daa1-4886-82b8-3e45361bf21e",
        "colab": {
          "base_uri": "https://localhost:8080/",
          "height": 1000
        }
      },
      "source": [
        "%%time\n",
        "rfe.fit(X, y)"
      ],
      "execution_count": 15,
      "outputs": [
        {
          "output_type": "stream",
          "text": [
            "Fitting estimator with 121 features.\n",
            "[23:58:24] WARNING: /workspace/src/objective/regression_obj.cu:152: reg:linear is now deprecated in favor of reg:squarederror.\n",
            "Fitting estimator with 120 features.\n",
            "[23:58:26] WARNING: /workspace/src/objective/regression_obj.cu:152: reg:linear is now deprecated in favor of reg:squarederror.\n",
            "Fitting estimator with 119 features.\n",
            "[23:58:27] WARNING: /workspace/src/objective/regression_obj.cu:152: reg:linear is now deprecated in favor of reg:squarederror.\n",
            "Fitting estimator with 118 features.\n",
            "[23:58:28] WARNING: /workspace/src/objective/regression_obj.cu:152: reg:linear is now deprecated in favor of reg:squarederror.\n",
            "Fitting estimator with 117 features.\n",
            "[23:58:29] WARNING: /workspace/src/objective/regression_obj.cu:152: reg:linear is now deprecated in favor of reg:squarederror.\n",
            "Fitting estimator with 116 features.\n",
            "[23:58:30] WARNING: /workspace/src/objective/regression_obj.cu:152: reg:linear is now deprecated in favor of reg:squarederror.\n",
            "Fitting estimator with 115 features.\n",
            "[23:58:31] WARNING: /workspace/src/objective/regression_obj.cu:152: reg:linear is now deprecated in favor of reg:squarederror.\n",
            "Fitting estimator with 114 features.\n",
            "[23:58:32] WARNING: /workspace/src/objective/regression_obj.cu:152: reg:linear is now deprecated in favor of reg:squarederror.\n",
            "Fitting estimator with 113 features.\n",
            "[23:58:33] WARNING: /workspace/src/objective/regression_obj.cu:152: reg:linear is now deprecated in favor of reg:squarederror.\n",
            "Fitting estimator with 112 features.\n",
            "[23:58:34] WARNING: /workspace/src/objective/regression_obj.cu:152: reg:linear is now deprecated in favor of reg:squarederror.\n",
            "Fitting estimator with 111 features.\n",
            "[23:58:35] WARNING: /workspace/src/objective/regression_obj.cu:152: reg:linear is now deprecated in favor of reg:squarederror.\n",
            "Fitting estimator with 110 features.\n",
            "[23:58:36] WARNING: /workspace/src/objective/regression_obj.cu:152: reg:linear is now deprecated in favor of reg:squarederror.\n",
            "Fitting estimator with 109 features.\n",
            "[23:58:37] WARNING: /workspace/src/objective/regression_obj.cu:152: reg:linear is now deprecated in favor of reg:squarederror.\n",
            "Fitting estimator with 108 features.\n",
            "[23:58:38] WARNING: /workspace/src/objective/regression_obj.cu:152: reg:linear is now deprecated in favor of reg:squarederror.\n",
            "Fitting estimator with 107 features.\n",
            "[23:58:39] WARNING: /workspace/src/objective/regression_obj.cu:152: reg:linear is now deprecated in favor of reg:squarederror.\n",
            "Fitting estimator with 106 features.\n",
            "[23:58:40] WARNING: /workspace/src/objective/regression_obj.cu:152: reg:linear is now deprecated in favor of reg:squarederror.\n",
            "Fitting estimator with 105 features.\n",
            "[23:58:41] WARNING: /workspace/src/objective/regression_obj.cu:152: reg:linear is now deprecated in favor of reg:squarederror.\n",
            "Fitting estimator with 104 features.\n",
            "[23:58:42] WARNING: /workspace/src/objective/regression_obj.cu:152: reg:linear is now deprecated in favor of reg:squarederror.\n",
            "Fitting estimator with 103 features.\n",
            "[23:58:43] WARNING: /workspace/src/objective/regression_obj.cu:152: reg:linear is now deprecated in favor of reg:squarederror.\n",
            "Fitting estimator with 102 features.\n",
            "[23:58:44] WARNING: /workspace/src/objective/regression_obj.cu:152: reg:linear is now deprecated in favor of reg:squarederror.\n",
            "Fitting estimator with 101 features.\n",
            "[23:58:45] WARNING: /workspace/src/objective/regression_obj.cu:152: reg:linear is now deprecated in favor of reg:squarederror.\n",
            "Fitting estimator with 100 features.\n",
            "[23:58:45] WARNING: /workspace/src/objective/regression_obj.cu:152: reg:linear is now deprecated in favor of reg:squarederror.\n",
            "Fitting estimator with 99 features.\n",
            "[23:58:46] WARNING: /workspace/src/objective/regression_obj.cu:152: reg:linear is now deprecated in favor of reg:squarederror.\n",
            "Fitting estimator with 98 features.\n",
            "[23:58:47] WARNING: /workspace/src/objective/regression_obj.cu:152: reg:linear is now deprecated in favor of reg:squarederror.\n",
            "Fitting estimator with 97 features.\n",
            "[23:58:48] WARNING: /workspace/src/objective/regression_obj.cu:152: reg:linear is now deprecated in favor of reg:squarederror.\n",
            "Fitting estimator with 96 features.\n",
            "[23:58:49] WARNING: /workspace/src/objective/regression_obj.cu:152: reg:linear is now deprecated in favor of reg:squarederror.\n",
            "Fitting estimator with 95 features.\n",
            "[23:58:50] WARNING: /workspace/src/objective/regression_obj.cu:152: reg:linear is now deprecated in favor of reg:squarederror.\n",
            "Fitting estimator with 94 features.\n",
            "[23:58:51] WARNING: /workspace/src/objective/regression_obj.cu:152: reg:linear is now deprecated in favor of reg:squarederror.\n",
            "Fitting estimator with 93 features.\n",
            "[23:58:52] WARNING: /workspace/src/objective/regression_obj.cu:152: reg:linear is now deprecated in favor of reg:squarederror.\n",
            "Fitting estimator with 92 features.\n",
            "[23:58:52] WARNING: /workspace/src/objective/regression_obj.cu:152: reg:linear is now deprecated in favor of reg:squarederror.\n",
            "Fitting estimator with 91 features.\n",
            "[23:58:53] WARNING: /workspace/src/objective/regression_obj.cu:152: reg:linear is now deprecated in favor of reg:squarederror.\n",
            "Fitting estimator with 90 features.\n",
            "[23:58:54] WARNING: /workspace/src/objective/regression_obj.cu:152: reg:linear is now deprecated in favor of reg:squarederror.\n",
            "Fitting estimator with 89 features.\n",
            "[23:58:55] WARNING: /workspace/src/objective/regression_obj.cu:152: reg:linear is now deprecated in favor of reg:squarederror.\n",
            "Fitting estimator with 88 features.\n",
            "[23:58:56] WARNING: /workspace/src/objective/regression_obj.cu:152: reg:linear is now deprecated in favor of reg:squarederror.\n",
            "Fitting estimator with 87 features.\n",
            "[23:58:57] WARNING: /workspace/src/objective/regression_obj.cu:152: reg:linear is now deprecated in favor of reg:squarederror.\n",
            "Fitting estimator with 86 features.\n",
            "[23:58:57] WARNING: /workspace/src/objective/regression_obj.cu:152: reg:linear is now deprecated in favor of reg:squarederror.\n",
            "Fitting estimator with 85 features.\n",
            "[23:58:58] WARNING: /workspace/src/objective/regression_obj.cu:152: reg:linear is now deprecated in favor of reg:squarederror.\n",
            "Fitting estimator with 84 features.\n",
            "[23:58:59] WARNING: /workspace/src/objective/regression_obj.cu:152: reg:linear is now deprecated in favor of reg:squarederror.\n",
            "Fitting estimator with 83 features.\n",
            "[23:59:00] WARNING: /workspace/src/objective/regression_obj.cu:152: reg:linear is now deprecated in favor of reg:squarederror.\n",
            "Fitting estimator with 82 features.\n",
            "[23:59:00] WARNING: /workspace/src/objective/regression_obj.cu:152: reg:linear is now deprecated in favor of reg:squarederror.\n",
            "Fitting estimator with 81 features.\n",
            "[23:59:01] WARNING: /workspace/src/objective/regression_obj.cu:152: reg:linear is now deprecated in favor of reg:squarederror.\n",
            "Fitting estimator with 80 features.\n",
            "[23:59:02] WARNING: /workspace/src/objective/regression_obj.cu:152: reg:linear is now deprecated in favor of reg:squarederror.\n",
            "Fitting estimator with 79 features.\n",
            "[23:59:03] WARNING: /workspace/src/objective/regression_obj.cu:152: reg:linear is now deprecated in favor of reg:squarederror.\n",
            "Fitting estimator with 78 features.\n",
            "[23:59:04] WARNING: /workspace/src/objective/regression_obj.cu:152: reg:linear is now deprecated in favor of reg:squarederror.\n",
            "Fitting estimator with 77 features.\n",
            "[23:59:04] WARNING: /workspace/src/objective/regression_obj.cu:152: reg:linear is now deprecated in favor of reg:squarederror.\n",
            "Fitting estimator with 76 features.\n",
            "[23:59:05] WARNING: /workspace/src/objective/regression_obj.cu:152: reg:linear is now deprecated in favor of reg:squarederror.\n",
            "Fitting estimator with 75 features.\n",
            "[23:59:06] WARNING: /workspace/src/objective/regression_obj.cu:152: reg:linear is now deprecated in favor of reg:squarederror.\n",
            "Fitting estimator with 74 features.\n",
            "[23:59:06] WARNING: /workspace/src/objective/regression_obj.cu:152: reg:linear is now deprecated in favor of reg:squarederror.\n",
            "Fitting estimator with 73 features.\n",
            "[23:59:07] WARNING: /workspace/src/objective/regression_obj.cu:152: reg:linear is now deprecated in favor of reg:squarederror.\n",
            "Fitting estimator with 72 features.\n",
            "[23:59:08] WARNING: /workspace/src/objective/regression_obj.cu:152: reg:linear is now deprecated in favor of reg:squarederror.\n",
            "Fitting estimator with 71 features.\n",
            "[23:59:08] WARNING: /workspace/src/objective/regression_obj.cu:152: reg:linear is now deprecated in favor of reg:squarederror.\n",
            "Fitting estimator with 70 features.\n",
            "[23:59:09] WARNING: /workspace/src/objective/regression_obj.cu:152: reg:linear is now deprecated in favor of reg:squarederror.\n",
            "Fitting estimator with 69 features.\n",
            "[23:59:10] WARNING: /workspace/src/objective/regression_obj.cu:152: reg:linear is now deprecated in favor of reg:squarederror.\n",
            "Fitting estimator with 68 features.\n",
            "[23:59:11] WARNING: /workspace/src/objective/regression_obj.cu:152: reg:linear is now deprecated in favor of reg:squarederror.\n",
            "Fitting estimator with 67 features.\n",
            "[23:59:11] WARNING: /workspace/src/objective/regression_obj.cu:152: reg:linear is now deprecated in favor of reg:squarederror.\n",
            "Fitting estimator with 66 features.\n",
            "[23:59:12] WARNING: /workspace/src/objective/regression_obj.cu:152: reg:linear is now deprecated in favor of reg:squarederror.\n",
            "Fitting estimator with 65 features.\n",
            "[23:59:12] WARNING: /workspace/src/objective/regression_obj.cu:152: reg:linear is now deprecated in favor of reg:squarederror.\n",
            "Fitting estimator with 64 features.\n",
            "[23:59:13] WARNING: /workspace/src/objective/regression_obj.cu:152: reg:linear is now deprecated in favor of reg:squarederror.\n",
            "Fitting estimator with 63 features.\n",
            "[23:59:14] WARNING: /workspace/src/objective/regression_obj.cu:152: reg:linear is now deprecated in favor of reg:squarederror.\n",
            "Fitting estimator with 62 features.\n",
            "[23:59:15] WARNING: /workspace/src/objective/regression_obj.cu:152: reg:linear is now deprecated in favor of reg:squarederror.\n",
            "Fitting estimator with 61 features.\n",
            "[23:59:16] WARNING: /workspace/src/objective/regression_obj.cu:152: reg:linear is now deprecated in favor of reg:squarederror.\n",
            "[23:59:17] WARNING: /workspace/src/objective/regression_obj.cu:152: reg:linear is now deprecated in favor of reg:squarederror.\n",
            "CPU times: user 34.2 s, sys: 20 s, total: 54.2 s\n",
            "Wall time: 54.1 s\n"
          ],
          "name": "stdout"
        },
        {
          "output_type": "execute_result",
          "data": {
            "text/plain": [
              "RFE(estimator=XGBRFRegressor(base_score=0.5, colsample_bylevel=1,\n",
              "                             colsample_bynode=0.8, colsample_bytree=1, gamma=0,\n",
              "                             learning_rate=1, max_delta_step=0, max_depth=3,\n",
              "                             min_child_weight=1, missing=None, n_estimators=100,\n",
              "                             n_jobs=1, nthread=None, objective='reg:linear',\n",
              "                             random_state=0, reg_alpha=0, reg_lambda=1,\n",
              "                             scale_pos_weight=1, seed=None, silent=None,\n",
              "                             subsample=0.8, tree_method='gpu_hist',\n",
              "                             verbosity=1),\n",
              "    n_features_to_select=None, step=1, verbose=2)"
            ]
          },
          "metadata": {
            "tags": []
          },
          "execution_count": 15
        }
      ]
    },
    {
      "cell_type": "code",
      "metadata": {
        "colab_type": "code",
        "id": "Brf2uSDUuSN-",
        "colab": {}
      },
      "source": [
        "sel = X.columns[rfe.get_support(indices=True)]"
      ],
      "execution_count": 0,
      "outputs": []
    },
    {
      "cell_type": "code",
      "metadata": {
        "colab_type": "code",
        "id": "i-nHSh7JpNL2",
        "colab": {}
      },
      "source": [
        "X = X[sel]"
      ],
      "execution_count": 0,
      "outputs": []
    },
    {
      "cell_type": "code",
      "metadata": {
        "colab_type": "code",
        "id": "imklLGNu8Cg3",
        "colab": {}
      },
      "source": [
        "X_train, X_test = X[:27000], X[27000:]\n",
        "y_train, y_test = y[:27000], y[27000:]"
      ],
      "execution_count": 0,
      "outputs": []
    },
    {
      "cell_type": "code",
      "metadata": {
        "colab_type": "code",
        "id": "6zvGhEdISD_o",
        "colab": {}
      },
      "source": [
        "def xgbrf_score(params):\n",
        "    estimator = xgb.XGBRFRegressor(**params)\n",
        "    estimator.fit(X_train, y_train)\n",
        "    predictions = estimator.predict(X_test)\n",
        "    loss = mean_absolute_error(y_test, np.array(predictions))\n",
        "    del estimator, predictions\n",
        "    gc.collect()\n",
        "    return {'loss': loss, 'status': STATUS_OK}"
      ],
      "execution_count": 0,
      "outputs": []
    },
    {
      "cell_type": "code",
      "metadata": {
        "colab_type": "code",
        "id": "r1ozj9ey6Al-",
        "colab": {}
      },
      "source": [
        "def xgbrf_optimize(evals, trials, optimizer=tpe.suggest, random_state=0):\n",
        "    space = {\n",
        "        'n_estimators': hp.choice('n_estimators', np.arange(200, 600, dtype=int)),\n",
        "        'eta': hp.quniform('eta', 0.025, 0.25, 0.025), # A problem with max_depth casted to float instead of int with the hp.quniform method.\n",
        "        'max_depth':  hp.choice('max_depth', np.arange(1, 14, dtype=int)),\n",
        "        'min_child_weight': hp.quniform('min_child_weight', 1, 10, 1),\n",
        "        'subsample': hp.quniform('subsample', 0.7, 1, 0.05),\n",
        "        'gamma': hp.quniform('gamma', 0.5, 1, 0.05),\n",
        "        'colsample_bytree': hp.quniform('colsample_bytree', 0.7, 1, 0.05),\n",
        "        'alpha' :  hp.quniform('alpha', 0, 10, 1),\n",
        "        'lambda': hp.quniform('lambda', 1, 2, 0.1),\n",
        "        #'nthread': cores,\n",
        "        'objective': 'reg:squarederror',\n",
        "        'tree_method': 'gpu_hist',\n",
        "        #'n_jobs': -1,\n",
        "        'seed': random_state\n",
        "    }\n",
        "    best = fmin(xgbrf_score, space, algo=tpe.suggest, max_evals=evals, trials = trials)\n",
        "    return best"
      ],
      "execution_count": 0,
      "outputs": []
    },
    {
      "cell_type": "code",
      "metadata": {
        "colab_type": "code",
        "id": "aXFA7OSy6Y9D",
        "outputId": "bd38b857-acda-4583-edbe-c206e3faf8e2",
        "colab": {
          "base_uri": "https://localhost:8080/",
          "height": 72
        }
      },
      "source": [
        "%%time\n",
        "trials = Trials()\n",
        "n= 1000\n",
        "xgbrf_best_param = xgbrf_optimize(evals = n,\n",
        "                      optimizer=tpe.suggest,\n",
        "                      trials = trials)"
      ],
      "execution_count": 21,
      "outputs": [
        {
          "output_type": "stream",
          "text": [
            "100%|██████████| 1000/1000 [2:15:48<00:00,  8.15s/it, best loss: 72.54576031720197]\n",
            "CPU times: user 1h 40min 26s, sys: 35min 20s, total: 2h 15min 46s\n",
            "Wall time: 2h 15min 48s\n"
          ],
          "name": "stdout"
        }
      ]
    },
    {
      "cell_type": "code",
      "metadata": {
        "colab_type": "code",
        "id": "n6Bq1C5RTD_8",
        "colab": {}
      },
      "source": [
        "xgbrf_best_param['objective'] = 'reg:squarederror'\n",
        "xgbrf_best_param['tree_method'] = 'gpu_hist'\n",
        "xgbrf_best_param['max_depth'] = max(xgbrf_best_param['max_depth'], 6)"
      ],
      "execution_count": 0,
      "outputs": []
    },
    {
      "cell_type": "code",
      "metadata": {
        "colab_type": "code",
        "id": "MpJln68cnSoE",
        "colab": {}
      },
      "source": [
        "xgbrf_estimator = xgb.XGBRFRegressor(**xgbrf_best_param)"
      ],
      "execution_count": 0,
      "outputs": []
    },
    {
      "cell_type": "code",
      "metadata": {
        "colab_type": "code",
        "id": "KIedHAMRngUG",
        "outputId": "e522ceef-c0eb-459e-b0b0-a70bb5e8f75f",
        "colab": {
          "base_uri": "https://localhost:8080/",
          "height": 199
        }
      },
      "source": [
        "%%time\n",
        "xgbrf_estimator.fit(X_train, y_train)"
      ],
      "execution_count": 25,
      "outputs": [
        {
          "output_type": "stream",
          "text": [
            "CPU times: user 2.52 s, sys: 1.2 s, total: 3.72 s\n",
            "Wall time: 3.72 s\n"
          ],
          "name": "stdout"
        },
        {
          "output_type": "execute_result",
          "data": {
            "text/plain": [
              "XGBRFRegressor(alpha=9.0, base_score=0.5, colsample_bylevel=1,\n",
              "               colsample_bynode=0.8, colsample_bytree=1.0, eta=0.05, gamma=1.0,\n",
              "               lambda=1.9000000000000001, learning_rate=1, max_delta_step=0,\n",
              "               max_depth=6, min_child_weight=3.0, missing=None,\n",
              "               n_estimators=275, n_jobs=1, nthread=None,\n",
              "               objective='reg:squarederror', random_state=0, reg_alpha=0,\n",
              "               reg_lambda=1, scale_pos_weight=1, seed=None, silent=None,\n",
              "               subsample=1.0, tree_method='gpu_hist', verbosity=1)"
            ]
          },
          "metadata": {
            "tags": []
          },
          "execution_count": 25
        }
      ]
    },
    {
      "cell_type": "code",
      "metadata": {
        "colab_type": "code",
        "id": "y_BbAHMNn_G3",
        "outputId": "2e3e9b0b-9c6b-40eb-8749-2c91ff1124c3",
        "colab": {
          "base_uri": "https://localhost:8080/",
          "height": 35
        }
      },
      "source": [
        "xgbrf_score = mean_absolute_error(y_test, np.array(xgbrf_estimator.score(X_test)))"
      ],
      "execution_count": 26,
      "outputs": [
        {
          "output_type": "execute_result",
          "data": {
            "text/plain": [
              "-0.006853214380391437"
            ]
          },
          "metadata": {
            "tags": []
          },
          "execution_count": 26
        }
      ]
    },
    {
      "cell_type": "code",
      "metadata": {
        "id": "TJRYSToGJZkh",
        "colab_type": "code",
        "colab": {}
      },
      "source": [
        "def ctb_score(params):\n",
        "    estimator = ctb.CatBoostRegressor(**params)\n",
        "    estimator.fit(X_train, y_train)\n",
        "    predictions = estimator.predict(X_test)\n",
        "    loss = mean_absolute_error(y_test, np.array(predictions))\n",
        "    del estimator, predictions\n",
        "    gc.collect()\n",
        "    return {'loss': loss, 'status': STATUS_OK}"
      ],
      "execution_count": 0,
      "outputs": []
    },
    {
      "cell_type": "code",
      "metadata": {
        "id": "w-SSYbXAKVvG",
        "colab_type": "code",
        "colab": {}
      },
      "source": [
        "def ctb_optimize(evals, trials, optimizer=tpe.suggest, random_state=0):\n",
        "    space = {\n",
        "            'depth': hp.choice('depth', np.arange(3, 12, dtype=int)),\n",
        "            'ctr_border_count': hp.choice('ctr_border_count', np.arange(3, 20, dtype=int)),\n",
        "            'border_count': hp.choice('border_count', [64, 128, 256]),\n",
        "            'ctr_description': hp.choice('ctr_description', [['Borders','CounterMax']]),\n",
        "            'learning_rate': hp.loguniform('learning_rate', -5, 0),\n",
        "            'random_strength': hp.choice('random_strength', np.arange(3, 50, dtype=int)),\n",
        "            'one_hot_max_size': hp.choice('one_hot_max_size', np.arange(0, 25, dtype=int)),\n",
        "            'l2_leaf_reg': hp.loguniform('l2_leaf_reg', 0, np.log(10)),\n",
        "            'bagging_temperature': hp.uniform('bagging_temperature', 0, 1),\n",
        "            #'used_ram_limit': hp.choice('used_ram_limit', [100000000000]),\n",
        "            'task_type': 'GPU'\n",
        "        }\n",
        "    best = fmin(ctb_score, space, algo=tpe.suggest, max_evals=evals, trials = trials)\n",
        "    return best"
      ],
      "execution_count": 0,
      "outputs": []
    },
    {
      "cell_type": "code",
      "metadata": {
        "id": "QP-X0UKnKpaa",
        "colab_type": "code",
        "colab": {}
      },
      "source": [
        "%%time\n",
        "trials = Trials()\n",
        "n= 1000\n",
        "ctb_best_param = ctb_optimize(evals = n,\n",
        "                      optimizer=tpe.suggest,\n",
        "                      trials = trials)"
      ],
      "execution_count": 0,
      "outputs": []
    },
    {
      "cell_type": "code",
      "metadata": {
        "id": "PTk4YYUCKysx",
        "colab_type": "code",
        "colab": {}
      },
      "source": [
        "ctb_best_param['tree_method'] = 'gpu_hist'\n",
        "ctb_best_param['max_depth'] = max(ctb_best_param['max_depth'], 3)"
      ],
      "execution_count": 0,
      "outputs": []
    },
    {
      "cell_type": "code",
      "metadata": {
        "id": "zkAuAlSKK52J",
        "colab_type": "code",
        "colab": {}
      },
      "source": [
        "ctb_estimator = ctb.CatBoostRegressor(**ctb_best_param)"
      ],
      "execution_count": 0,
      "outputs": []
    },
    {
      "cell_type": "code",
      "metadata": {
        "id": "pE0nevRgLC8P",
        "colab_type": "code",
        "colab": {}
      },
      "source": [
        "%%time\n",
        "fit(X_train, y_train)"
      ],
      "execution_count": 0,
      "outputs": []
    },
    {
      "cell_type": "code",
      "metadata": {
        "id": "aGxvZlBALGYi",
        "colab_type": "code",
        "colab": {}
      },
      "source": [
        "ctb_score = mean_absolute_error(y_test, np.array(ctb_estimator.predict(X_test)))"
      ],
      "execution_count": 0,
      "outputs": []
    },
    {
      "cell_type": "code",
      "metadata": {
        "id": "wCDcr0M6LRLx",
        "colab_type": "code",
        "colab": {}
      },
      "source": [
        "score = xgbrf_score + ctb_score"
      ],
      "execution_count": 0,
      "outputs": []
    },
    {
      "cell_type": "code",
      "metadata": {
        "colab_type": "code",
        "id": "7_98e4hCpZQB",
        "colab": {}
      },
      "source": [
        "test = pd.read_csv('/content/dataset/test.csv')"
      ],
      "execution_count": 0,
      "outputs": []
    },
    {
      "cell_type": "code",
      "metadata": {
        "colab_type": "code",
        "id": "rTRFTuWyPgci",
        "outputId": "aaef0940-8d9a-4198-f8f8-32156688fa81",
        "colab": {
          "base_uri": "https://localhost:8080/",
          "height": 53
        }
      },
      "source": [
        "%%time\n",
        "X_sub = prepare_df(test.copy())"
      ],
      "execution_count": 28,
      "outputs": [
        {
          "output_type": "stream",
          "text": [
            "CPU times: user 382 ms, sys: 3.43 ms, total: 385 ms\n",
            "Wall time: 388 ms\n"
          ],
          "name": "stdout"
        }
      ]
    },
    {
      "cell_type": "code",
      "metadata": {
        "colab_type": "code",
        "id": "UMCzfgx1PnVc",
        "colab": {}
      },
      "source": [
        "X_sub['date_time'] = X_sub['date_time'].dt.hour"
      ],
      "execution_count": 0,
      "outputs": []
    },
    {
      "cell_type": "code",
      "metadata": {
        "colab_type": "code",
        "id": "Licfz0qUPpf0",
        "colab": {}
      },
      "source": [
        "X_sub = X_sub[sel]"
      ],
      "execution_count": 0,
      "outputs": []
    },
    {
      "cell_type": "code",
      "metadata": {
        "colab_type": "code",
        "id": "rCBWWOmvPwsm",
        "colab": {}
      },
      "source": [
        "test['air_pollution_index'] = xgbrf_estimator.predict(X_sub)*score/xgbrf_score + ctb_estimator.predict(X_sub)*score/ctb_score"
      ],
      "execution_count": 0,
      "outputs": []
    },
    {
      "cell_type": "code",
      "metadata": {
        "colab_type": "code",
        "id": "8y-tTuSHQMtZ",
        "colab": {}
      },
      "source": [
        "test = test.reset_index()"
      ],
      "execution_count": 0,
      "outputs": []
    },
    {
      "cell_type": "code",
      "metadata": {
        "colab_type": "code",
        "id": "Y2jqm236P1IP",
        "colab": {}
      },
      "source": [
        "test.to_csv('sub5.csv', columns = ['date_time', 'air_pollution_index'], index = False)"
      ],
      "execution_count": 0,
      "outputs": []
    }
  ]
}