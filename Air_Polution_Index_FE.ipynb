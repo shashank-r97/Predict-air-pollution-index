{
  "nbformat": 4,
  "nbformat_minor": 0,
  "metadata": {
    "colab": {
      "name": "Air Polution Index FE.ipynb",
      "provenance": [],
      "mount_file_id": "1oY_fIZW_oJOMmiUMua5QHFjZ2mI34nct",
      "authorship_tag": "ABX9TyO4Bhwnv/Matn2+MWDnqmDS"
    },
    "kernelspec": {
      "name": "python3",
      "display_name": "Python 3"
    },
    "accelerator": "GPU"
  },
  "cells": [
    {
      "cell_type": "code",
      "metadata": {
        "id": "J3HaXePqoYO4",
        "colab_type": "code",
        "colab": {}
      },
      "source": [
        "#!unzip \"/content/drive/My Drive/Data/fc33077e-6-dataset.zip\""
      ],
      "execution_count": 0,
      "outputs": []
    },
    {
      "cell_type": "code",
      "metadata": {
        "id": "0g5bh-JGrHgo",
        "colab_type": "code",
        "colab": {}
      },
      "source": [
        "#!pip install catboost\n",
        "#!pip install -U yellowbrick"
      ],
      "execution_count": 0,
      "outputs": []
    },
    {
      "cell_type": "code",
      "metadata": {
        "id": "Up_4b76uuJr1",
        "colab_type": "code",
        "outputId": "c12b0f80-93d9-46ae-bea9-91588c4dc407",
        "colab": {
          "base_uri": "https://localhost:8080/",
          "height": 110
        }
      },
      "source": [
        "import pandas as pd\n",
        "import numpy as np\n",
        "import matplotlib.pyplot as plt\n",
        "import seaborn as sns\n",
        "from sklearn.model_selection import train_test_split\n",
        "from sklearn.ensemble import RandomForestRegressor\n",
        "from catboost import CatBoostRegressor\n",
        "from sklearn.feature_selection import VarianceThreshold\n",
        "from sklearn.ensemble import RandomForestRegressor\n",
        "from sklearn.feature_selection import SelectFromModel\n",
        "from sklearn.feature_selection import RFE\n",
        "from yellowbrick.model_selection import FeatureImportances\n",
        "pd.set_option('display.max_columns',None)\n",
        "pd.set_option('display.max_rows',None)"
      ],
      "execution_count": 3,
      "outputs": [
        {
          "output_type": "stream",
          "text": [
            "/usr/local/lib/python3.6/dist-packages/statsmodels/tools/_testing.py:19: FutureWarning: pandas.util.testing is deprecated. Use the functions in the public API at pandas.testing instead.\n",
            "  import pandas.util.testing as tm\n",
            "/usr/local/lib/python3.6/dist-packages/sklearn/utils/deprecation.py:144: FutureWarning: The sklearn.metrics.classification module is  deprecated in version 0.22 and will be removed in version 0.24. The corresponding classes / functions should instead be imported from sklearn.metrics. Anything that cannot be imported from sklearn.metrics is now part of the private API.\n",
            "  warnings.warn(message, FutureWarning)\n"
          ],
          "name": "stderr"
        }
      ]
    },
    {
      "cell_type": "code",
      "metadata": {
        "id": "ZtUeeGCmuT_U",
        "colab_type": "code",
        "outputId": "e538dfc8-21b4-4d9e-9fdf-523919c98ad2",
        "colab": {
          "base_uri": "https://localhost:8080/",
          "height": 53
        }
      },
      "source": [
        "%%time\n",
        "train = pd.read_csv('/content/dataset/train.csv')"
      ],
      "execution_count": 4,
      "outputs": [
        {
          "output_type": "stream",
          "text": [
            "CPU times: user 38.5 ms, sys: 16.6 ms, total: 55.1 ms\n",
            "Wall time: 57.6 ms\n"
          ],
          "name": "stdout"
        }
      ]
    },
    {
      "cell_type": "code",
      "metadata": {
        "id": "ZUKL0icnuaxw",
        "colab_type": "code",
        "colab": {}
      },
      "source": [
        "X = train.drop(columns = ['air_pollution_index'])\n",
        "y = train['air_pollution_index']"
      ],
      "execution_count": 0,
      "outputs": []
    },
    {
      "cell_type": "code",
      "metadata": {
        "id": "TTA4pBy0pEh9",
        "colab_type": "code",
        "outputId": "16d88124-edc0-4899-eaf2-e87ecc80d09b",
        "colab": {
          "base_uri": "https://localhost:8080/",
          "height": 35
        }
      },
      "source": [
        "X.shape"
      ],
      "execution_count": 6,
      "outputs": [
        {
          "output_type": "execute_result",
          "data": {
            "text/plain": [
              "(33750, 13)"
            ]
          },
          "metadata": {
            "tags": []
          },
          "execution_count": 6
        }
      ]
    },
    {
      "cell_type": "code",
      "metadata": {
        "id": "gKo9jksxpGAI",
        "colab_type": "code",
        "colab": {}
      },
      "source": [
        "def prepare_df(train):\n",
        "    org_keys = train.columns.tolist()\n",
        "    \n",
        "    train['is_holiday'] = np.where(train['is_holiday'] == 'None', False, True)\n",
        "    train['date_time'] = pd.to_datetime(train['date_time'])\n",
        "    \n",
        "    train.set_index('date_time', inplace = True)\n",
        "    \n",
        "    days = ['01d', '03d', '07d', '14d', '30d']\n",
        "    \n",
        "    sum_attributes = ['is_holiday', 'rain_p_h', 'snow_p_h']\n",
        "\n",
        "    for val in sum_attributes:\n",
        "        for day in days:\n",
        "            train['num_'+val+'_'+day] = train.rolling(day)[val].sum()\n",
        "            \n",
        "    weather_types = train['weather_type'].unique().tolist()\n",
        "    for weather in weather_types:\n",
        "        train[weather] = np.where(train['weather_type'] == weather, 1, 0)\n",
        "    \n",
        "    train.drop(columns = 'weather_type', inplace = True)\n",
        "    \n",
        "    avg_attributes = ['humidity', 'wind_speed', 'wind_direction', 'visibility_in_miles', 'dew_point', 'temperature', \n",
        "                     'rain_p_h', 'snow_p_h', 'clouds_all', 'traffic_volume'] + weather_types\n",
        "\n",
        "    for val in avg_attributes:\n",
        "        for day in days:\n",
        "            train['avg_'+val+'_'+day] = train.rolling(day)[val].mean()\n",
        "            \n",
        "    for column in train.columns:\n",
        "        if 'avg' in column:\n",
        "            train[column+'_diff'] = train[column[4:-4]] - train[column]\n",
        "            \n",
        "    return train.reset_index()"
      ],
      "execution_count": 0,
      "outputs": []
    },
    {
      "cell_type": "code",
      "metadata": {
        "id": "iw-sixOlpJDQ",
        "colab_type": "code",
        "outputId": "38d9ffd1-a3c5-4f4f-9159-a691b9aa4a8a",
        "colab": {
          "base_uri": "https://localhost:8080/",
          "height": 53
        }
      },
      "source": [
        "%%time\n",
        "X = prepare_df(X.copy())"
      ],
      "execution_count": 8,
      "outputs": [
        {
          "output_type": "stream",
          "text": [
            "CPU times: user 598 ms, sys: 63.9 ms, total: 662 ms\n",
            "Wall time: 664 ms\n"
          ],
          "name": "stdout"
        }
      ]
    },
    {
      "cell_type": "code",
      "metadata": {
        "id": "i9XEUAnLpK2E",
        "colab_type": "code",
        "outputId": "ea8b62e1-f095-4428-9dbb-d7ba1995d29b",
        "colab": {
          "base_uri": "https://localhost:8080/",
          "height": 35
        }
      },
      "source": [
        "X.shape"
      ],
      "execution_count": 9,
      "outputs": [
        {
          "output_type": "execute_result",
          "data": {
            "text/plain": [
              "(33750, 248)"
            ]
          },
          "metadata": {
            "tags": []
          },
          "execution_count": 9
        }
      ]
    },
    {
      "cell_type": "code",
      "metadata": {
        "id": "HD1k1nnquYRi",
        "colab_type": "code",
        "colab": {}
      },
      "source": [
        "X['date_time'] = X['date_time'].dt.hour"
      ],
      "execution_count": 0,
      "outputs": []
    },
    {
      "cell_type": "code",
      "metadata": {
        "id": "XpVMv1h49T-k",
        "colab_type": "code",
        "outputId": "147e7c25-29b2-4f5a-8688-c4ed541f795e",
        "colab": {
          "base_uri": "https://localhost:8080/",
          "height": 53
        }
      },
      "source": [
        "%%time\n",
        "selector = VarianceThreshold(0.1)\n",
        "selector.fit(X)"
      ],
      "execution_count": 11,
      "outputs": [
        {
          "output_type": "stream",
          "text": [
            "CPU times: user 429 ms, sys: 87.2 ms, total: 516 ms\n",
            "Wall time: 519 ms\n"
          ],
          "name": "stdout"
        }
      ]
    },
    {
      "cell_type": "code",
      "metadata": {
        "id": "We0anDMR9UPA",
        "colab_type": "code",
        "colab": {}
      },
      "source": [
        "sel = X.columns[selector.get_support(indices=True)]"
      ],
      "execution_count": 0,
      "outputs": []
    },
    {
      "cell_type": "code",
      "metadata": {
        "id": "CIdGsDI89UJu",
        "colab_type": "code",
        "colab": {}
      },
      "source": [
        "X = X[sel]"
      ],
      "execution_count": 0,
      "outputs": []
    },
    {
      "cell_type": "code",
      "metadata": {
        "id": "P7xmtVtLtyd8",
        "colab_type": "code",
        "outputId": "4073ac24-36e3-4efa-a167-a554f3e05392",
        "colab": {
          "base_uri": "https://localhost:8080/",
          "height": 53
        }
      },
      "source": [
        "%%time\n",
        "fsel = SelectFromModel(CatBoostRegressor(task_type=\"GPU\", verbose=0), max_features=100)\n",
        "fsel.fit(X, y)"
      ],
      "execution_count": 14,
      "outputs": [
        {
          "output_type": "stream",
          "text": [
            "CPU times: user 20.3 s, sys: 7.19 s, total: 27.5 s\n",
            "Wall time: 23 s\n"
          ],
          "name": "stdout"
        }
      ]
    },
    {
      "cell_type": "code",
      "metadata": {
        "id": "QZR5BHdUuSZP",
        "colab_type": "code",
        "colab": {}
      },
      "source": [
        "sel = X.columns[fsel.get_support(indices=True)]"
      ],
      "execution_count": 0,
      "outputs": []
    },
    {
      "cell_type": "code",
      "metadata": {
        "id": "huMBNp-i-GdQ",
        "colab_type": "code",
        "outputId": "df26ee1d-45c9-46f3-dc80-19c963ab1660",
        "colab": {
          "base_uri": "https://localhost:8080/",
          "height": 35
        }
      },
      "source": [
        "len(sel)"
      ],
      "execution_count": 16,
      "outputs": [
        {
          "output_type": "execute_result",
          "data": {
            "text/plain": [
              "60"
            ]
          },
          "metadata": {
            "tags": []
          },
          "execution_count": 16
        }
      ]
    },
    {
      "cell_type": "code",
      "metadata": {
        "id": "IOa605m28ALs",
        "colab_type": "code",
        "colab": {}
      },
      "source": [
        "X = X[sel]"
      ],
      "execution_count": 0,
      "outputs": []
    },
    {
      "cell_type": "code",
      "metadata": {
        "id": "H1E0GKB4uSVO",
        "colab_type": "code",
        "colab": {}
      },
      "source": [
        "rfe = RFE(RandomForestRegressor(n_jobs = -1), step = 5, verbose = 2)"
      ],
      "execution_count": 0,
      "outputs": []
    },
    {
      "cell_type": "code",
      "metadata": {
        "id": "goyESr0quSRi",
        "colab_type": "code",
        "outputId": "9ac389f8-d9de-49c4-e2ef-9adbb5e3313b",
        "colab": {
          "base_uri": "https://localhost:8080/",
          "height": 362
        }
      },
      "source": [
        "%%time\n",
        "rfe.fit(X, y)"
      ],
      "execution_count": 19,
      "outputs": [
        {
          "output_type": "stream",
          "text": [
            "Fitting estimator with 60 features.\n",
            "Fitting estimator with 55 features.\n",
            "Fitting estimator with 50 features.\n",
            "Fitting estimator with 45 features.\n",
            "Fitting estimator with 40 features.\n",
            "Fitting estimator with 35 features.\n",
            "CPU times: user 36min 58s, sys: 1.46 s, total: 36min 59s\n",
            "Wall time: 19min\n"
          ],
          "name": "stdout"
        },
        {
          "output_type": "execute_result",
          "data": {
            "text/plain": [
              "RFE(estimator=RandomForestRegressor(bootstrap=True, ccp_alpha=0.0,\n",
              "                                    criterion='mse', max_depth=None,\n",
              "                                    max_features='auto', max_leaf_nodes=None,\n",
              "                                    max_samples=None, min_impurity_decrease=0.0,\n",
              "                                    min_impurity_split=None, min_samples_leaf=1,\n",
              "                                    min_samples_split=2,\n",
              "                                    min_weight_fraction_leaf=0.0,\n",
              "                                    n_estimators=100, n_jobs=-1,\n",
              "                                    oob_score=False, random_state=None,\n",
              "                                    verbose=0, warm_start=False),\n",
              "    n_features_to_select=None, step=5, verbose=2)"
            ]
          },
          "metadata": {
            "tags": []
          },
          "execution_count": 19
        }
      ]
    },
    {
      "cell_type": "code",
      "metadata": {
        "id": "Brf2uSDUuSN-",
        "colab_type": "code",
        "colab": {}
      },
      "source": [
        "sel = X.columns[rfe.get_support(indices=True)]"
      ],
      "execution_count": 0,
      "outputs": []
    },
    {
      "cell_type": "code",
      "metadata": {
        "id": "i-nHSh7JpNL2",
        "colab_type": "code",
        "colab": {}
      },
      "source": [
        "X = X[sel]"
      ],
      "execution_count": 0,
      "outputs": []
    },
    {
      "cell_type": "code",
      "metadata": {
        "id": "K2PBzKDmpPNl",
        "colab_type": "code",
        "colab": {}
      },
      "source": [
        "X_train, X_test, y_train, y_test = train_test_split(X, y, test_size=0.1, random_state=42)"
      ],
      "execution_count": 0,
      "outputs": []
    },
    {
      "cell_type": "code",
      "metadata": {
        "id": "M5o5gFalpRID",
        "colab_type": "code",
        "colab": {}
      },
      "source": [
        "estimator = CatBoostRegressor(task_type=\"GPU\",\n",
        "                              devices='0:1',\n",
        "                              verbose=0)"
      ],
      "execution_count": 0,
      "outputs": []
    },
    {
      "cell_type": "code",
      "metadata": {
        "id": "s19NaqgFpUuR",
        "colab_type": "code",
        "outputId": "4a236c2c-8030-4a31-c22c-dee4e9c22ce4",
        "colab": {
          "base_uri": "https://localhost:8080/",
          "height": 72
        }
      },
      "source": [
        "%%time\n",
        "estimator.fit(X_train, y_train)"
      ],
      "execution_count": 24,
      "outputs": [
        {
          "output_type": "stream",
          "text": [
            "CPU times: user 13.4 s, sys: 3.6 s, total: 17 s\n",
            "Wall time: 13.6 s\n"
          ],
          "name": "stdout"
        },
        {
          "output_type": "execute_result",
          "data": {
            "text/plain": [
              "<catboost.core.CatBoostRegressor at 0x7f83d7657da0>"
            ]
          },
          "metadata": {
            "tags": []
          },
          "execution_count": 24
        }
      ]
    },
    {
      "cell_type": "code",
      "metadata": {
        "id": "HAwjbbyMpWkA",
        "colab_type": "code",
        "outputId": "5fc7bccd-85b6-4792-9157-4da89771dd53",
        "colab": {
          "base_uri": "https://localhost:8080/",
          "height": 35
        }
      },
      "source": [
        "estimator.score(X_test, y_test)"
      ],
      "execution_count": 25,
      "outputs": [
        {
          "output_type": "execute_result",
          "data": {
            "text/plain": [
              "-0.018958207555134665"
            ]
          },
          "metadata": {
            "tags": []
          },
          "execution_count": 25
        }
      ]
    },
    {
      "cell_type": "code",
      "metadata": {
        "id": "7_98e4hCpZQB",
        "colab_type": "code",
        "colab": {}
      },
      "source": [
        "test = pd.read_csv('/content/dataset/test.csv')"
      ],
      "execution_count": 0,
      "outputs": []
    },
    {
      "cell_type": "code",
      "metadata": {
        "id": "rTRFTuWyPgci",
        "colab_type": "code",
        "outputId": "0041fab9-b4b2-4ffc-bbd7-a2386a99a434",
        "colab": {
          "base_uri": "https://localhost:8080/",
          "height": 53
        }
      },
      "source": [
        "%%time\n",
        "X_sub = prepare_df(test.copy())"
      ],
      "execution_count": 27,
      "outputs": [
        {
          "output_type": "stream",
          "text": [
            "CPU times: user 1.03 s, sys: 16 ms, total: 1.05 s\n",
            "Wall time: 540 ms\n"
          ],
          "name": "stdout"
        }
      ]
    },
    {
      "cell_type": "code",
      "metadata": {
        "id": "UMCzfgx1PnVc",
        "colab_type": "code",
        "colab": {}
      },
      "source": [
        "X_sub['date_time'] = X_sub['date_time'].dt.hour"
      ],
      "execution_count": 0,
      "outputs": []
    },
    {
      "cell_type": "code",
      "metadata": {
        "id": "Licfz0qUPpf0",
        "colab_type": "code",
        "colab": {}
      },
      "source": [
        "X_sub = X_sub[sel]"
      ],
      "execution_count": 0,
      "outputs": []
    },
    {
      "cell_type": "code",
      "metadata": {
        "id": "rCBWWOmvPwsm",
        "colab_type": "code",
        "colab": {}
      },
      "source": [
        "test['air_pollution_index'] = estimator.predict(X_sub)"
      ],
      "execution_count": 0,
      "outputs": []
    },
    {
      "cell_type": "code",
      "metadata": {
        "id": "8y-tTuSHQMtZ",
        "colab_type": "code",
        "colab": {}
      },
      "source": [
        "test = test.reset_index()"
      ],
      "execution_count": 0,
      "outputs": []
    },
    {
      "cell_type": "code",
      "metadata": {
        "id": "Y2jqm236P1IP",
        "colab_type": "code",
        "colab": {}
      },
      "source": [
        "test.to_csv('sub1.csv', columns = ['date_time', 'air_pollution_index'], index = False)"
      ],
      "execution_count": 0,
      "outputs": []
    }
  ]
}