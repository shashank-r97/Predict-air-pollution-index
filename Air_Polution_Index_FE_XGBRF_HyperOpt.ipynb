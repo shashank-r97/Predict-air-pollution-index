{
  "nbformat": 4,
  "nbformat_minor": 0,
  "metadata": {
    "accelerator": "GPU",
    "colab": {
      "name": "Air_Polution_Index_FE_XGBRF_HyperOpt.ipynb",
      "provenance": [],
      "collapsed_sections": []
    },
    "kernelspec": {
      "display_name": "Python",
      "language": "python",
      "name": "conda-env-python-py"
    },
    "language_info": {
      "codemirror_mode": {
        "name": "ipython",
        "version": 3
      },
      "file_extension": ".py",
      "mimetype": "text/x-python",
      "name": "python",
      "nbconvert_exporter": "python",
      "pygments_lexer": "ipython3",
      "version": "3.6.7"
    }
  },
  "cells": [
    {
      "cell_type": "code",
      "metadata": {
        "id": "tNzmnWJHEf3a",
        "colab_type": "code",
        "colab": {
          "base_uri": "https://localhost:8080/",
          "height": 128
        },
        "outputId": "fd432fb9-d203-4b16-9aaf-69c16172693a"
      },
      "source": [
        "from google.colab import drive\n",
        "drive.mount('/content/drive')"
      ],
      "execution_count": 1,
      "outputs": [
        {
          "output_type": "stream",
          "text": [
            "Go to this URL in a browser: https://accounts.google.com/o/oauth2/auth?client_id=947318989803-6bn6qk8qdgf4n4g3pfee6491hc0brc4i.apps.googleusercontent.com&redirect_uri=urn%3aietf%3awg%3aoauth%3a2.0%3aoob&response_type=code&scope=email%20https%3a%2f%2fwww.googleapis.com%2fauth%2fdocs.test%20https%3a%2f%2fwww.googleapis.com%2fauth%2fdrive%20https%3a%2f%2fwww.googleapis.com%2fauth%2fdrive.photos.readonly%20https%3a%2f%2fwww.googleapis.com%2fauth%2fpeopleapi.readonly\n",
            "\n",
            "Enter your authorization code:\n",
            "··········\n",
            "Mounted at /content/drive\n"
          ],
          "name": "stdout"
        }
      ]
    },
    {
      "cell_type": "code",
      "metadata": {
        "id": "ll9CKFA6EkUn",
        "colab_type": "code",
        "colab": {
          "base_uri": "https://localhost:8080/",
          "height": 90
        },
        "outputId": "b6087c8d-95e9-4043-84ce-ea1349a91f1b"
      },
      "source": [
        "!unzip \"/content/drive/My Drive/Data/fc33077e-6-dataset.zip\""
      ],
      "execution_count": 2,
      "outputs": [
        {
          "output_type": "stream",
          "text": [
            "Archive:  /content/drive/My Drive/Data/fc33077e-6-dataset.zip\n",
            "   creating: dataset/\n",
            "  inflating: dataset/test.csv        \n",
            "  inflating: dataset/train.csv       \n"
          ],
          "name": "stdout"
        }
      ]
    },
    {
      "cell_type": "code",
      "metadata": {
        "colab_type": "code",
        "id": "Up_4b76uuJr1",
        "colab": {}
      },
      "source": [
        "import pandas as pd\n",
        "import numpy as np\n",
        "from sklearn.feature_selection import VarianceThreshold\n",
        "from sklearn.feature_selection import SelectFromModel\n",
        "from sklearn.feature_selection import RFE\n",
        "from sklearn.metrics import mean_squared_error\n",
        "from hyperopt import hp\n",
        "import gc\n",
        "import xgboost as xgb\n",
        "from sklearn.metrics import mean_absolute_error\n",
        "from hyperopt import fmin, tpe, STATUS_OK, STATUS_FAIL, Trials\n",
        "pd.set_option('display.max_columns',None)\n",
        "pd.set_option('display.max_rows',None)"
      ],
      "execution_count": 0,
      "outputs": []
    },
    {
      "cell_type": "code",
      "metadata": {
        "colab_type": "code",
        "id": "ZtUeeGCmuT_U",
        "outputId": "4e97b73e-644e-4dd3-f2d4-bc2d94ed0548",
        "colab": {
          "base_uri": "https://localhost:8080/",
          "height": 53
        }
      },
      "source": [
        "%%time\n",
        "train = pd.read_csv('/content/dataset/train.csv')"
      ],
      "execution_count": 4,
      "outputs": [
        {
          "output_type": "stream",
          "text": [
            "CPU times: user 45.1 ms, sys: 15.9 ms, total: 61 ms\n",
            "Wall time: 71.4 ms\n"
          ],
          "name": "stdout"
        }
      ]
    },
    {
      "cell_type": "code",
      "metadata": {
        "colab_type": "code",
        "id": "ZUKL0icnuaxw",
        "colab": {}
      },
      "source": [
        "X = train.drop(columns = ['air_pollution_index'])\n",
        "y = train['air_pollution_index']"
      ],
      "execution_count": 0,
      "outputs": []
    },
    {
      "cell_type": "code",
      "metadata": {
        "colab_type": "code",
        "id": "TTA4pBy0pEh9",
        "outputId": "dc727676-a12b-4011-a4cc-a08e3df489b8",
        "colab": {
          "base_uri": "https://localhost:8080/",
          "height": 35
        }
      },
      "source": [
        "X.shape"
      ],
      "execution_count": 6,
      "outputs": [
        {
          "output_type": "execute_result",
          "data": {
            "text/plain": [
              "(33750, 13)"
            ]
          },
          "metadata": {
            "tags": []
          },
          "execution_count": 6
        }
      ]
    },
    {
      "cell_type": "code",
      "metadata": {
        "colab_type": "code",
        "id": "gKo9jksxpGAI",
        "colab": {}
      },
      "source": [
        "def prepare_df(train):\n",
        "    org_keys = train.columns.tolist()\n",
        "    \n",
        "    train['is_holiday'] = np.where(train['is_holiday'] == 'None', False, True)\n",
        "    train['date_time'] = pd.to_datetime(train['date_time'])\n",
        "    \n",
        "    train.set_index('date_time', inplace = True)\n",
        "    \n",
        "    days = ['01d', '03d', '07d', '14d', '30d']\n",
        "    \n",
        "    sum_attributes = ['is_holiday', 'rain_p_h', 'snow_p_h']\n",
        "\n",
        "    for val in sum_attributes:\n",
        "        for day in days:\n",
        "            train['num_'+val+'_'+day] = train.rolling(day)[val].sum()\n",
        "            \n",
        "    weather_types = train['weather_type'].unique().tolist()\n",
        "    for weather in weather_types:\n",
        "        train[weather] = np.where(train['weather_type'] == weather, 1, 0)\n",
        "    \n",
        "    train.drop(columns = 'weather_type', inplace = True)\n",
        "    \n",
        "    avg_attributes = ['humidity', 'wind_speed', 'wind_direction', 'visibility_in_miles', 'dew_point', 'temperature', \n",
        "                     'rain_p_h', 'snow_p_h', 'clouds_all', 'traffic_volume'] + weather_types\n",
        "\n",
        "    for val in avg_attributes:\n",
        "        for day in days:\n",
        "            train['avg_'+val+'_'+day] = train.rolling(day)[val].mean()\n",
        "            \n",
        "    for column in train.columns:\n",
        "        if 'avg' in column:\n",
        "            train[column+'_diff'] = train[column[4:-4]] - train[column]\n",
        "            \n",
        "    return train.reset_index()"
      ],
      "execution_count": 0,
      "outputs": []
    },
    {
      "cell_type": "code",
      "metadata": {
        "colab_type": "code",
        "id": "iw-sixOlpJDQ",
        "outputId": "5e3c808d-f04b-4a04-f04f-5643a4e10714",
        "colab": {
          "base_uri": "https://localhost:8080/",
          "height": 53
        }
      },
      "source": [
        "%%time\n",
        "X = prepare_df(X.copy())"
      ],
      "execution_count": 8,
      "outputs": [
        {
          "output_type": "stream",
          "text": [
            "CPU times: user 615 ms, sys: 61.4 ms, total: 676 ms\n",
            "Wall time: 693 ms\n"
          ],
          "name": "stdout"
        }
      ]
    },
    {
      "cell_type": "code",
      "metadata": {
        "colab_type": "code",
        "id": "i9XEUAnLpK2E",
        "outputId": "50959875-96b0-4846-ac70-2f5bec520471",
        "colab": {
          "base_uri": "https://localhost:8080/",
          "height": 35
        }
      },
      "source": [
        "X.shape"
      ],
      "execution_count": 9,
      "outputs": [
        {
          "output_type": "execute_result",
          "data": {
            "text/plain": [
              "(33750, 248)"
            ]
          },
          "metadata": {
            "tags": []
          },
          "execution_count": 9
        }
      ]
    },
    {
      "cell_type": "code",
      "metadata": {
        "colab_type": "code",
        "id": "HD1k1nnquYRi",
        "colab": {}
      },
      "source": [
        "X['date_time'] = X['date_time'].dt.hour"
      ],
      "execution_count": 0,
      "outputs": []
    },
    {
      "cell_type": "code",
      "metadata": {
        "colab_type": "code",
        "id": "XpVMv1h49T-k",
        "outputId": "f73cfb8e-529e-4789-e422-f8d75f436674",
        "colab": {
          "base_uri": "https://localhost:8080/",
          "height": 53
        }
      },
      "source": [
        "%%time\n",
        "selector = VarianceThreshold(0.1)\n",
        "selector.fit(X)"
      ],
      "execution_count": 11,
      "outputs": [
        {
          "output_type": "stream",
          "text": [
            "CPU times: user 424 ms, sys: 69.9 ms, total: 494 ms\n",
            "Wall time: 498 ms\n"
          ],
          "name": "stdout"
        }
      ]
    },
    {
      "cell_type": "code",
      "metadata": {
        "colab_type": "code",
        "id": "We0anDMR9UPA",
        "colab": {}
      },
      "source": [
        "sel = X.columns[selector.get_support(indices=True)]"
      ],
      "execution_count": 0,
      "outputs": []
    },
    {
      "cell_type": "code",
      "metadata": {
        "colab_type": "code",
        "id": "CIdGsDI89UJu",
        "colab": {}
      },
      "source": [
        "X = X[sel]"
      ],
      "execution_count": 0,
      "outputs": []
    },
    {
      "cell_type": "code",
      "metadata": {
        "colab_type": "code",
        "id": "P7xmtVtLtyd8",
        "outputId": "cf1699ef-40c7-4cd0-b1d1-2dbe8991b0fd",
        "colab": {
          "base_uri": "https://localhost:8080/",
          "height": 72
        }
      },
      "source": [
        "%%time\n",
        "fsel = SelectFromModel(xgb.XGBRFRegressor(n_jobs=-1), max_features=100)\n",
        "fsel.fit(X, y)"
      ],
      "execution_count": 14,
      "outputs": [
        {
          "output_type": "stream",
          "text": [
            "[22:06:21] WARNING: /workspace/src/objective/regression_obj.cu:152: reg:linear is now deprecated in favor of reg:squarederror.\n",
            "CPU times: user 20.4 s, sys: 126 ms, total: 20.5 s\n",
            "Wall time: 11.3 s\n"
          ],
          "name": "stdout"
        }
      ]
    },
    {
      "cell_type": "code",
      "metadata": {
        "colab_type": "code",
        "id": "QZR5BHdUuSZP",
        "colab": {}
      },
      "source": [
        "sel = X.columns[fsel.get_support(indices=True)]"
      ],
      "execution_count": 0,
      "outputs": []
    },
    {
      "cell_type": "code",
      "metadata": {
        "colab_type": "code",
        "id": "huMBNp-i-GdQ",
        "outputId": "a38b571a-a81d-444e-de0f-0c0378762158",
        "colab": {
          "base_uri": "https://localhost:8080/",
          "height": 35
        }
      },
      "source": [
        "len(sel)"
      ],
      "execution_count": 16,
      "outputs": [
        {
          "output_type": "execute_result",
          "data": {
            "text/plain": [
              "59"
            ]
          },
          "metadata": {
            "tags": []
          },
          "execution_count": 16
        }
      ]
    },
    {
      "cell_type": "code",
      "metadata": {
        "colab_type": "code",
        "id": "IOa605m28ALs",
        "colab": {}
      },
      "source": [
        "X = X[sel]"
      ],
      "execution_count": 0,
      "outputs": []
    },
    {
      "cell_type": "code",
      "metadata": {
        "colab_type": "code",
        "id": "H1E0GKB4uSVO",
        "colab": {}
      },
      "source": [
        "rfe = RFE(xgb.XGBRFRegressor(tree_method = 'gpu_hist'), step = 1, verbose = 2)"
      ],
      "execution_count": 0,
      "outputs": []
    },
    {
      "cell_type": "code",
      "metadata": {
        "colab_type": "code",
        "id": "goyESr0quSRi",
        "outputId": "2ffeae42-4a0a-4c7b-995f-37a65ab3add3",
        "colab": {
          "base_uri": "https://localhost:8080/",
          "height": 1000
        }
      },
      "source": [
        "%%time\n",
        "rfe.fit(X, y)"
      ],
      "execution_count": 19,
      "outputs": [
        {
          "output_type": "stream",
          "text": [
            "Fitting estimator with 59 features.\n",
            "[22:06:32] WARNING: /workspace/src/objective/regression_obj.cu:152: reg:linear is now deprecated in favor of reg:squarederror.\n",
            "Fitting estimator with 58 features.\n",
            "[22:06:33] WARNING: /workspace/src/objective/regression_obj.cu:152: reg:linear is now deprecated in favor of reg:squarederror.\n",
            "Fitting estimator with 57 features.\n",
            "[22:06:34] WARNING: /workspace/src/objective/regression_obj.cu:152: reg:linear is now deprecated in favor of reg:squarederror.\n",
            "Fitting estimator with 56 features.\n",
            "[22:06:35] WARNING: /workspace/src/objective/regression_obj.cu:152: reg:linear is now deprecated in favor of reg:squarederror.\n",
            "Fitting estimator with 55 features.\n",
            "[22:06:36] WARNING: /workspace/src/objective/regression_obj.cu:152: reg:linear is now deprecated in favor of reg:squarederror.\n",
            "Fitting estimator with 54 features.\n",
            "[22:06:37] WARNING: /workspace/src/objective/regression_obj.cu:152: reg:linear is now deprecated in favor of reg:squarederror.\n",
            "Fitting estimator with 53 features.\n",
            "[22:06:38] WARNING: /workspace/src/objective/regression_obj.cu:152: reg:linear is now deprecated in favor of reg:squarederror.\n",
            "Fitting estimator with 52 features.\n",
            "[22:06:38] WARNING: /workspace/src/objective/regression_obj.cu:152: reg:linear is now deprecated in favor of reg:squarederror.\n",
            "Fitting estimator with 51 features.\n",
            "[22:06:39] WARNING: /workspace/src/objective/regression_obj.cu:152: reg:linear is now deprecated in favor of reg:squarederror.\n",
            "Fitting estimator with 50 features.\n",
            "[22:06:40] WARNING: /workspace/src/objective/regression_obj.cu:152: reg:linear is now deprecated in favor of reg:squarederror.\n",
            "Fitting estimator with 49 features.\n",
            "[22:06:41] WARNING: /workspace/src/objective/regression_obj.cu:152: reg:linear is now deprecated in favor of reg:squarederror.\n",
            "Fitting estimator with 48 features.\n",
            "[22:06:42] WARNING: /workspace/src/objective/regression_obj.cu:152: reg:linear is now deprecated in favor of reg:squarederror.\n",
            "Fitting estimator with 47 features.\n",
            "[22:06:42] WARNING: /workspace/src/objective/regression_obj.cu:152: reg:linear is now deprecated in favor of reg:squarederror.\n",
            "Fitting estimator with 46 features.\n",
            "[22:06:43] WARNING: /workspace/src/objective/regression_obj.cu:152: reg:linear is now deprecated in favor of reg:squarederror.\n",
            "Fitting estimator with 45 features.\n",
            "[22:06:44] WARNING: /workspace/src/objective/regression_obj.cu:152: reg:linear is now deprecated in favor of reg:squarederror.\n",
            "Fitting estimator with 44 features.\n",
            "[22:06:45] WARNING: /workspace/src/objective/regression_obj.cu:152: reg:linear is now deprecated in favor of reg:squarederror.\n",
            "Fitting estimator with 43 features.\n",
            "[22:06:45] WARNING: /workspace/src/objective/regression_obj.cu:152: reg:linear is now deprecated in favor of reg:squarederror.\n",
            "Fitting estimator with 42 features.\n",
            "[22:06:46] WARNING: /workspace/src/objective/regression_obj.cu:152: reg:linear is now deprecated in favor of reg:squarederror.\n",
            "Fitting estimator with 41 features.\n",
            "[22:06:47] WARNING: /workspace/src/objective/regression_obj.cu:152: reg:linear is now deprecated in favor of reg:squarederror.\n",
            "Fitting estimator with 40 features.\n",
            "[22:06:47] WARNING: /workspace/src/objective/regression_obj.cu:152: reg:linear is now deprecated in favor of reg:squarederror.\n",
            "Fitting estimator with 39 features.\n",
            "[22:06:48] WARNING: /workspace/src/objective/regression_obj.cu:152: reg:linear is now deprecated in favor of reg:squarederror.\n",
            "Fitting estimator with 38 features.\n",
            "[22:06:49] WARNING: /workspace/src/objective/regression_obj.cu:152: reg:linear is now deprecated in favor of reg:squarederror.\n",
            "Fitting estimator with 37 features.\n",
            "[22:06:49] WARNING: /workspace/src/objective/regression_obj.cu:152: reg:linear is now deprecated in favor of reg:squarederror.\n",
            "Fitting estimator with 36 features.\n",
            "[22:06:50] WARNING: /workspace/src/objective/regression_obj.cu:152: reg:linear is now deprecated in favor of reg:squarederror.\n",
            "Fitting estimator with 35 features.\n",
            "[22:06:51] WARNING: /workspace/src/objective/regression_obj.cu:152: reg:linear is now deprecated in favor of reg:squarederror.\n",
            "Fitting estimator with 34 features.\n",
            "[22:06:51] WARNING: /workspace/src/objective/regression_obj.cu:152: reg:linear is now deprecated in favor of reg:squarederror.\n",
            "Fitting estimator with 33 features.\n",
            "[22:06:52] WARNING: /workspace/src/objective/regression_obj.cu:152: reg:linear is now deprecated in favor of reg:squarederror.\n",
            "Fitting estimator with 32 features.\n",
            "[22:06:53] WARNING: /workspace/src/objective/regression_obj.cu:152: reg:linear is now deprecated in favor of reg:squarederror.\n",
            "Fitting estimator with 31 features.\n",
            "[22:06:54] WARNING: /workspace/src/objective/regression_obj.cu:152: reg:linear is now deprecated in favor of reg:squarederror.\n",
            "Fitting estimator with 30 features.\n",
            "[22:06:55] WARNING: /workspace/src/objective/regression_obj.cu:152: reg:linear is now deprecated in favor of reg:squarederror.\n",
            "[22:06:55] WARNING: /workspace/src/objective/regression_obj.cu:152: reg:linear is now deprecated in favor of reg:squarederror.\n",
            "CPU times: user 15.2 s, sys: 9.15 s, total: 24.3 s\n",
            "Wall time: 24.2 s\n"
          ],
          "name": "stdout"
        },
        {
          "output_type": "execute_result",
          "data": {
            "text/plain": [
              "RFE(estimator=XGBRFRegressor(base_score=0.5, colsample_bylevel=1,\n",
              "                             colsample_bynode=0.8, colsample_bytree=1, gamma=0,\n",
              "                             learning_rate=1, max_delta_step=0, max_depth=3,\n",
              "                             min_child_weight=1, missing=None, n_estimators=100,\n",
              "                             n_jobs=1, nthread=None, objective='reg:linear',\n",
              "                             random_state=0, reg_alpha=0, reg_lambda=1,\n",
              "                             scale_pos_weight=1, seed=None, silent=None,\n",
              "                             subsample=0.8, tree_method='gpu_hist',\n",
              "                             verbosity=1),\n",
              "    n_features_to_select=None, step=1, verbose=2)"
            ]
          },
          "metadata": {
            "tags": []
          },
          "execution_count": 19
        }
      ]
    },
    {
      "cell_type": "code",
      "metadata": {
        "colab_type": "code",
        "id": "Brf2uSDUuSN-",
        "colab": {}
      },
      "source": [
        "sel = X.columns[rfe.get_support(indices=True)]"
      ],
      "execution_count": 0,
      "outputs": []
    },
    {
      "cell_type": "code",
      "metadata": {
        "colab_type": "code",
        "id": "i-nHSh7JpNL2",
        "colab": {}
      },
      "source": [
        "X = X[sel]"
      ],
      "execution_count": 0,
      "outputs": []
    },
    {
      "cell_type": "code",
      "metadata": {
        "colab_type": "code",
        "id": "imklLGNu8Cg3",
        "colab": {}
      },
      "source": [
        "X_train, X_test = X[:27000], X[27000:]\n",
        "y_train, y_test = y[:27000], y[27000:]"
      ],
      "execution_count": 0,
      "outputs": []
    },
    {
      "cell_type": "code",
      "metadata": {
        "colab_type": "code",
        "id": "6zvGhEdISD_o",
        "colab": {}
      },
      "source": [
        "def score(params):\n",
        "    estimator = xgb.XGBRFRegressor(**params)\n",
        "    estimator.fit(X_train, y_train)\n",
        "    predictions = estimator.predict(X_test)\n",
        "    loss = mean_absolute_error(y_test, np.array(predictions))\n",
        "    del estimator, predictions\n",
        "    gc.collect()\n",
        "    return {'loss': loss, 'status': STATUS_OK}"
      ],
      "execution_count": 0,
      "outputs": []
    },
    {
      "cell_type": "code",
      "metadata": {
        "colab_type": "code",
        "id": "r1ozj9ey6Al-",
        "colab": {}
      },
      "source": [
        "def optimize(evals, trials, optimizer=tpe.suggest, random_state=0):\n",
        "    space = {\n",
        "        'n_estimators': hp.choice('n_estimators', np.arange(200, 600, dtype=int)),\n",
        "        'eta': hp.quniform('eta', 0.025, 0.25, 0.025), # A problem with max_depth casted to float instead of int with the hp.quniform method.\n",
        "        'max_depth':  hp.choice('max_depth', np.arange(1, 14, dtype=int)),\n",
        "        'min_child_weight': hp.quniform('min_child_weight', 1, 10, 1),\n",
        "        'subsample': hp.quniform('subsample', 0.7, 1, 0.05),\n",
        "        'gamma': hp.quniform('gamma', 0.5, 1, 0.05),\n",
        "        'colsample_bytree': hp.quniform('colsample_bytree', 0.7, 1, 0.05),\n",
        "        'alpha' :  hp.quniform('alpha', 0, 10, 1),\n",
        "        'lambda': hp.quniform('lambda', 1, 2, 0.1),\n",
        "        #'nthread': cores,\n",
        "        'objective': 'reg:squarederror',\n",
        "        'tree_method': 'gpu_hist',\n",
        "        #'n_jobs': -1,\n",
        "        'seed': random_state\n",
        "    }\n",
        "    best = fmin(score, space, algo=tpe.suggest, max_evals=evals, trials = trials)\n",
        "    return best"
      ],
      "execution_count": 0,
      "outputs": []
    },
    {
      "cell_type": "code",
      "metadata": {
        "colab_type": "code",
        "id": "aXFA7OSy6Y9D",
        "outputId": "2d2a358a-54fb-4d48-bea4-3ac461e1ce15",
        "colab": {
          "base_uri": "https://localhost:8080/",
          "height": 35
        }
      },
      "source": [
        "%%time\n",
        "trials = Trials()\n",
        "n= 1000\n",
        "best_param = optimize(evals = n,\n",
        "                      optimizer=tpe.suggest,\n",
        "                      trials = trials)"
      ],
      "execution_count": 0,
      "outputs": [
        {
          "output_type": "stream",
          "text": [
            "  1%|          | 6/1000 [00:31<1:26:19,  5.21s/it, best loss: 72.55631930202908]"
          ],
          "name": "stdout"
        }
      ]
    },
    {
      "cell_type": "code",
      "metadata": {
        "colab_type": "code",
        "id": "n6Bq1C5RTD_8",
        "colab": {}
      },
      "source": [
        "best_param['objective'] = 'reg:squarederror'\n",
        "best_param['tree_method'] = 'gpu_hist'"
      ],
      "execution_count": 0,
      "outputs": []
    },
    {
      "cell_type": "code",
      "metadata": {
        "colab_type": "code",
        "id": "schGJB2EnqwH",
        "colab": {}
      },
      "source": [
        "best_param"
      ],
      "execution_count": 0,
      "outputs": []
    },
    {
      "cell_type": "code",
      "metadata": {
        "colab_type": "code",
        "id": "MpJln68cnSoE",
        "colab": {}
      },
      "source": [
        "estimator = xgb.XGBRFRegressor(**best_param)"
      ],
      "execution_count": 0,
      "outputs": []
    },
    {
      "cell_type": "code",
      "metadata": {
        "colab_type": "code",
        "id": "KIedHAMRngUG",
        "colab": {}
      },
      "source": [
        "%%time\n",
        "estimator.fit(X_train, y_train)"
      ],
      "execution_count": 0,
      "outputs": []
    },
    {
      "cell_type": "code",
      "metadata": {
        "colab_type": "code",
        "id": "y_BbAHMNn_G3",
        "colab": {}
      },
      "source": [
        "estimator.score(X_test, y_test)"
      ],
      "execution_count": 0,
      "outputs": []
    },
    {
      "cell_type": "code",
      "metadata": {
        "colab_type": "code",
        "id": "7_98e4hCpZQB",
        "colab": {}
      },
      "source": [
        "test = pd.read_csv('/content/dataset/test.csv')"
      ],
      "execution_count": 0,
      "outputs": []
    },
    {
      "cell_type": "code",
      "metadata": {
        "colab_type": "code",
        "id": "rTRFTuWyPgci",
        "colab": {}
      },
      "source": [
        "%%time\n",
        "X_sub = prepare_df(test.copy())"
      ],
      "execution_count": 0,
      "outputs": []
    },
    {
      "cell_type": "code",
      "metadata": {
        "colab_type": "code",
        "id": "UMCzfgx1PnVc",
        "colab": {}
      },
      "source": [
        "X_sub['date_time'] = X_sub['date_time'].dt.hour"
      ],
      "execution_count": 0,
      "outputs": []
    },
    {
      "cell_type": "code",
      "metadata": {
        "colab_type": "code",
        "id": "Licfz0qUPpf0",
        "colab": {}
      },
      "source": [
        "X_sub = X_sub[sel]"
      ],
      "execution_count": 0,
      "outputs": []
    },
    {
      "cell_type": "code",
      "metadata": {
        "colab_type": "code",
        "id": "rCBWWOmvPwsm",
        "colab": {}
      },
      "source": [
        "test['air_pollution_index'] = estimator.predict(X_sub)"
      ],
      "execution_count": 0,
      "outputs": []
    },
    {
      "cell_type": "code",
      "metadata": {
        "colab_type": "code",
        "id": "8y-tTuSHQMtZ",
        "colab": {}
      },
      "source": [
        "test = test.reset_index()"
      ],
      "execution_count": 0,
      "outputs": []
    },
    {
      "cell_type": "code",
      "metadata": {
        "colab_type": "code",
        "id": "Y2jqm236P1IP",
        "colab": {}
      },
      "source": [
        "test.to_csv('sub3.csv', columns = ['date_time', 'air_pollution_index'], index = False)"
      ],
      "execution_count": 0,
      "outputs": []
    }
  ]
}