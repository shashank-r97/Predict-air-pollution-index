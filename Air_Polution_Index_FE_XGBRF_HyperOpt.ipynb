{
  "nbformat": 4,
  "nbformat_minor": 0,
  "metadata": {
    "accelerator": "GPU",
    "colab": {
      "name": "Air_Polution_Index_FE_XGBRF_HyperOpt.ipynb",
      "provenance": [],
      "collapsed_sections": [],
      "include_colab_link": true
    },
    "kernelspec": {
      "display_name": "Python",
      "language": "python",
      "name": "conda-env-python-py"
    },
    "language_info": {
      "codemirror_mode": {
        "name": "ipython",
        "version": 3
      },
      "file_extension": ".py",
      "mimetype": "text/x-python",
      "name": "python",
      "nbconvert_exporter": "python",
      "pygments_lexer": "ipython3",
      "version": "3.6.7"
    }
  },
  "cells": [
    {
      "cell_type": "markdown",
      "metadata": {
        "id": "view-in-github",
        "colab_type": "text"
      },
      "source": [
        "<a href=\"https://colab.research.google.com/github/shashank-r97/temp/blob/master/Air_Polution_Index_FE_XGBRF_HyperOpt.ipynb\" target=\"_parent\"><img src=\"https://colab.research.google.com/assets/colab-badge.svg\" alt=\"Open In Colab\"/></a>"
      ]
    },
    {
      "cell_type": "code",
      "metadata": {
        "id": "tNzmnWJHEf3a",
        "colab_type": "code",
        "colab": {
          "base_uri": "https://localhost:8080/",
          "height": 128
        },
        "outputId": "fd432fb9-d203-4b16-9aaf-69c16172693a"
      },
      "source": [
        "from google.colab import drive\n",
        "drive.mount('/content/drive')"
      ],
      "execution_count": 1,
      "outputs": [
        {
          "output_type": "stream",
          "text": [
            "Go to this URL in a browser: https://accounts.google.com/o/oauth2/auth?client_id=947318989803-6bn6qk8qdgf4n4g3pfee6491hc0brc4i.apps.googleusercontent.com&redirect_uri=urn%3aietf%3awg%3aoauth%3a2.0%3aoob&response_type=code&scope=email%20https%3a%2f%2fwww.googleapis.com%2fauth%2fdocs.test%20https%3a%2f%2fwww.googleapis.com%2fauth%2fdrive%20https%3a%2f%2fwww.googleapis.com%2fauth%2fdrive.photos.readonly%20https%3a%2f%2fwww.googleapis.com%2fauth%2fpeopleapi.readonly\n",
            "\n",
            "Enter your authorization code:\n",
            "··········\n",
            "Mounted at /content/drive\n"
          ],
          "name": "stdout"
        }
      ]
    },
    {
      "cell_type": "code",
      "metadata": {
        "id": "ll9CKFA6EkUn",
        "colab_type": "code",
        "colab": {
          "base_uri": "https://localhost:8080/",
          "height": 90
        },
        "outputId": "b6087c8d-95e9-4043-84ce-ea1349a91f1b"
      },
      "source": [
        "!unzip \"/content/drive/My Drive/Data/fc33077e-6-dataset.zip\""
      ],
      "execution_count": 2,
      "outputs": [
        {
          "output_type": "stream",
          "text": [
            "Archive:  /content/drive/My Drive/Data/fc33077e-6-dataset.zip\n",
            "   creating: dataset/\n",
            "  inflating: dataset/test.csv        \n",
            "  inflating: dataset/train.csv       \n"
          ],
          "name": "stdout"
        }
      ]
    },
    {
      "cell_type": "code",
      "metadata": {
        "colab_type": "code",
        "id": "Up_4b76uuJr1",
        "colab": {}
      },
      "source": [
        "import pandas as pd\n",
        "import numpy as np\n",
        "from sklearn.feature_selection import VarianceThreshold\n",
        "from sklearn.feature_selection import SelectFromModel\n",
        "from sklearn.feature_selection import RFE\n",
        "from sklearn.metrics import mean_squared_error\n",
        "from hyperopt import hp\n",
        "import gc\n",
        "import xgboost as xgb\n",
        "from sklearn.metrics import mean_absolute_error\n",
        "from hyperopt import fmin, tpe, STATUS_OK, STATUS_FAIL, Trials\n",
        "pd.set_option('display.max_columns',None)\n",
        "pd.set_option('display.max_rows',None)"
      ],
      "execution_count": 0,
      "outputs": []
    },
    {
      "cell_type": "code",
      "metadata": {
        "colab_type": "code",
        "id": "ZtUeeGCmuT_U",
        "outputId": "5c527f4a-b880-4a41-82e7-1510943c7ad0",
        "colab": {
          "base_uri": "https://localhost:8080/",
          "height": 53
        }
      },
      "source": [
        "%%time\n",
        "train = pd.read_csv('/content/dataset/train.csv')"
      ],
      "execution_count": 2,
      "outputs": [
        {
          "output_type": "stream",
          "text": [
            "CPU times: user 40.9 ms, sys: 14 ms, total: 54.9 ms\n",
            "Wall time: 55.5 ms\n"
          ],
          "name": "stdout"
        }
      ]
    },
    {
      "cell_type": "code",
      "metadata": {
        "colab_type": "code",
        "id": "ZUKL0icnuaxw",
        "colab": {}
      },
      "source": [
        "X = train.drop(columns = ['air_pollution_index'])\n",
        "y = train['air_pollution_index']"
      ],
      "execution_count": 0,
      "outputs": []
    },
    {
      "cell_type": "code",
      "metadata": {
        "colab_type": "code",
        "id": "TTA4pBy0pEh9",
        "outputId": "a0ed2650-080d-4b4b-e234-edbbd470c353",
        "colab": {
          "base_uri": "https://localhost:8080/",
          "height": 35
        }
      },
      "source": [
        "X.shape"
      ],
      "execution_count": 4,
      "outputs": [
        {
          "output_type": "execute_result",
          "data": {
            "text/plain": [
              "(33750, 13)"
            ]
          },
          "metadata": {
            "tags": []
          },
          "execution_count": 4
        }
      ]
    },
    {
      "cell_type": "code",
      "metadata": {
        "colab_type": "code",
        "id": "gKo9jksxpGAI",
        "colab": {}
      },
      "source": [
        "def prepare_df(train):\n",
        "    org_keys = train.columns.tolist()\n",
        "    \n",
        "    train['is_holiday'] = np.where(train['is_holiday'] == 'None', False, True)\n",
        "    train['date_time'] = pd.to_datetime(train['date_time'])\n",
        "    \n",
        "    train.set_index('date_time', inplace = True)\n",
        "    \n",
        "    days = ['01d', '03d', '07d', '14d', '30d']\n",
        "    \n",
        "    sum_attributes = ['is_holiday', 'rain_p_h', 'snow_p_h']\n",
        "\n",
        "    for val in sum_attributes:\n",
        "        for day in days:\n",
        "            train['num_'+val+'_'+day] = train.rolling(day)[val].sum()\n",
        "            \n",
        "    weather_types = train['weather_type'].unique().tolist()\n",
        "    for weather in weather_types:\n",
        "        train[weather] = np.where(train['weather_type'] == weather, 1, 0)\n",
        "    \n",
        "    train.drop(columns = 'weather_type', inplace = True)\n",
        "    \n",
        "    avg_attributes = ['humidity', 'wind_speed', 'wind_direction', 'visibility_in_miles', 'dew_point', 'temperature', \n",
        "                     'rain_p_h', 'snow_p_h', 'clouds_all', 'traffic_volume'] + weather_types\n",
        "\n",
        "    for val in avg_attributes:\n",
        "        for day in days:\n",
        "            train['avg_'+val+'_'+day] = train.rolling(day)[val].mean()\n",
        "            \n",
        "    for column in train.columns:\n",
        "        if 'avg' in column:\n",
        "            train[column+'_diff'] = train[column[4:-4]] - train[column]\n",
        "            \n",
        "    return train.reset_index()"
      ],
      "execution_count": 0,
      "outputs": []
    },
    {
      "cell_type": "code",
      "metadata": {
        "colab_type": "code",
        "id": "iw-sixOlpJDQ",
        "outputId": "9502c6bc-0da6-4083-ae44-051f4d4c12a6",
        "colab": {
          "base_uri": "https://localhost:8080/",
          "height": 53
        }
      },
      "source": [
        "%%time\n",
        "X = prepare_df(X.copy())"
      ],
      "execution_count": 6,
      "outputs": [
        {
          "output_type": "stream",
          "text": [
            "CPU times: user 576 ms, sys: 62.2 ms, total: 639 ms\n",
            "Wall time: 639 ms\n"
          ],
          "name": "stdout"
        }
      ]
    },
    {
      "cell_type": "code",
      "metadata": {
        "colab_type": "code",
        "id": "i9XEUAnLpK2E",
        "outputId": "a3d64917-a56a-4b40-a91a-98c3c505449c",
        "colab": {
          "base_uri": "https://localhost:8080/",
          "height": 35
        }
      },
      "source": [
        "X.shape"
      ],
      "execution_count": 7,
      "outputs": [
        {
          "output_type": "execute_result",
          "data": {
            "text/plain": [
              "(33750, 248)"
            ]
          },
          "metadata": {
            "tags": []
          },
          "execution_count": 7
        }
      ]
    },
    {
      "cell_type": "code",
      "metadata": {
        "colab_type": "code",
        "id": "HD1k1nnquYRi",
        "colab": {}
      },
      "source": [
        "X['date_time'] = X['date_time'].dt.hour"
      ],
      "execution_count": 0,
      "outputs": []
    },
    {
      "cell_type": "code",
      "metadata": {
        "colab_type": "code",
        "id": "XpVMv1h49T-k",
        "outputId": "28902e2e-b8d0-4601-c89c-89e67995b403",
        "colab": {
          "base_uri": "https://localhost:8080/",
          "height": 53
        }
      },
      "source": [
        "%%time\n",
        "selector = VarianceThreshold(0.1)\n",
        "selector.fit(X)"
      ],
      "execution_count": 9,
      "outputs": [
        {
          "output_type": "stream",
          "text": [
            "CPU times: user 404 ms, sys: 80.1 ms, total: 484 ms\n",
            "Wall time: 485 ms\n"
          ],
          "name": "stdout"
        }
      ]
    },
    {
      "cell_type": "code",
      "metadata": {
        "colab_type": "code",
        "id": "We0anDMR9UPA",
        "colab": {}
      },
      "source": [
        "sel = X.columns[selector.get_support(indices=True)]"
      ],
      "execution_count": 0,
      "outputs": []
    },
    {
      "cell_type": "code",
      "metadata": {
        "colab_type": "code",
        "id": "CIdGsDI89UJu",
        "colab": {}
      },
      "source": [
        "X = X[sel]"
      ],
      "execution_count": 0,
      "outputs": []
    },
    {
      "cell_type": "code",
      "metadata": {
        "colab_type": "code",
        "id": "P7xmtVtLtyd8",
        "outputId": "4b1b6d4e-e3d4-4b44-cea0-22566d2b185a",
        "colab": {
          "base_uri": "https://localhost:8080/",
          "height": 72
        }
      },
      "source": [
        "%%time\n",
        "fsel = SelectFromModel(xgb.XGBRFRegressor(n_jobs=-1), max_features=100)\n",
        "fsel.fit(X, y)"
      ],
      "execution_count": 12,
      "outputs": [
        {
          "output_type": "stream",
          "text": [
            "[23:54:10] WARNING: /workspace/src/objective/regression_obj.cu:152: reg:linear is now deprecated in favor of reg:squarederror.\n",
            "CPU times: user 19.3 s, sys: 120 ms, total: 19.4 s\n",
            "Wall time: 10.1 s\n"
          ],
          "name": "stdout"
        }
      ]
    },
    {
      "cell_type": "code",
      "metadata": {
        "colab_type": "code",
        "id": "QZR5BHdUuSZP",
        "colab": {}
      },
      "source": [
        "sel = X.columns[fsel.get_support(indices=True)]"
      ],
      "execution_count": 0,
      "outputs": []
    },
    {
      "cell_type": "code",
      "metadata": {
        "colab_type": "code",
        "id": "huMBNp-i-GdQ",
        "outputId": "51ad5280-e003-4635-de42-2b8e9a9bfc07",
        "colab": {
          "base_uri": "https://localhost:8080/",
          "height": 35
        }
      },
      "source": [
        "len(sel)"
      ],
      "execution_count": 14,
      "outputs": [
        {
          "output_type": "execute_result",
          "data": {
            "text/plain": [
              "59"
            ]
          },
          "metadata": {
            "tags": []
          },
          "execution_count": 14
        }
      ]
    },
    {
      "cell_type": "code",
      "metadata": {
        "colab_type": "code",
        "id": "IOa605m28ALs",
        "colab": {}
      },
      "source": [
        "X = X[sel]"
      ],
      "execution_count": 0,
      "outputs": []
    },
    {
      "cell_type": "code",
      "metadata": {
        "colab_type": "code",
        "id": "H1E0GKB4uSVO",
        "colab": {}
      },
      "source": [
        "rfe = RFE(xgb.XGBRFRegressor(tree_method = 'gpu_hist'), step = 1, verbose = 2)"
      ],
      "execution_count": 0,
      "outputs": []
    },
    {
      "cell_type": "code",
      "metadata": {
        "colab_type": "code",
        "id": "goyESr0quSRi",
        "outputId": "a4415768-eca6-4a0f-94a2-32f57b29a9b2",
        "colab": {
          "base_uri": "https://localhost:8080/",
          "height": 1000
        }
      },
      "source": [
        "%%time\n",
        "rfe.fit(X, y)"
      ],
      "execution_count": 17,
      "outputs": [
        {
          "output_type": "stream",
          "text": [
            "Fitting estimator with 59 features.\n",
            "[23:54:20] WARNING: /workspace/src/objective/regression_obj.cu:152: reg:linear is now deprecated in favor of reg:squarederror.\n",
            "Fitting estimator with 58 features.\n",
            "[23:54:21] WARNING: /workspace/src/objective/regression_obj.cu:152: reg:linear is now deprecated in favor of reg:squarederror.\n",
            "Fitting estimator with 57 features.\n",
            "[23:54:22] WARNING: /workspace/src/objective/regression_obj.cu:152: reg:linear is now deprecated in favor of reg:squarederror.\n",
            "Fitting estimator with 56 features.\n",
            "[23:54:23] WARNING: /workspace/src/objective/regression_obj.cu:152: reg:linear is now deprecated in favor of reg:squarederror.\n",
            "Fitting estimator with 55 features.\n",
            "[23:54:24] WARNING: /workspace/src/objective/regression_obj.cu:152: reg:linear is now deprecated in favor of reg:squarederror.\n",
            "Fitting estimator with 54 features.\n",
            "[23:54:24] WARNING: /workspace/src/objective/regression_obj.cu:152: reg:linear is now deprecated in favor of reg:squarederror.\n",
            "Fitting estimator with 53 features.\n",
            "[23:54:25] WARNING: /workspace/src/objective/regression_obj.cu:152: reg:linear is now deprecated in favor of reg:squarederror.\n",
            "Fitting estimator with 52 features.\n",
            "[23:54:26] WARNING: /workspace/src/objective/regression_obj.cu:152: reg:linear is now deprecated in favor of reg:squarederror.\n",
            "Fitting estimator with 51 features.\n",
            "[23:54:27] WARNING: /workspace/src/objective/regression_obj.cu:152: reg:linear is now deprecated in favor of reg:squarederror.\n",
            "Fitting estimator with 50 features.\n",
            "[23:54:28] WARNING: /workspace/src/objective/regression_obj.cu:152: reg:linear is now deprecated in favor of reg:squarederror.\n",
            "Fitting estimator with 49 features.\n",
            "[23:54:29] WARNING: /workspace/src/objective/regression_obj.cu:152: reg:linear is now deprecated in favor of reg:squarederror.\n",
            "Fitting estimator with 48 features.\n",
            "[23:54:29] WARNING: /workspace/src/objective/regression_obj.cu:152: reg:linear is now deprecated in favor of reg:squarederror.\n",
            "Fitting estimator with 47 features.\n",
            "[23:54:30] WARNING: /workspace/src/objective/regression_obj.cu:152: reg:linear is now deprecated in favor of reg:squarederror.\n",
            "Fitting estimator with 46 features.\n",
            "[23:54:31] WARNING: /workspace/src/objective/regression_obj.cu:152: reg:linear is now deprecated in favor of reg:squarederror.\n",
            "Fitting estimator with 45 features.\n",
            "[23:54:32] WARNING: /workspace/src/objective/regression_obj.cu:152: reg:linear is now deprecated in favor of reg:squarederror.\n",
            "Fitting estimator with 44 features.\n",
            "[23:54:32] WARNING: /workspace/src/objective/regression_obj.cu:152: reg:linear is now deprecated in favor of reg:squarederror.\n",
            "Fitting estimator with 43 features.\n",
            "[23:54:33] WARNING: /workspace/src/objective/regression_obj.cu:152: reg:linear is now deprecated in favor of reg:squarederror.\n",
            "Fitting estimator with 42 features.\n",
            "[23:54:34] WARNING: /workspace/src/objective/regression_obj.cu:152: reg:linear is now deprecated in favor of reg:squarederror.\n",
            "Fitting estimator with 41 features.\n",
            "[23:54:34] WARNING: /workspace/src/objective/regression_obj.cu:152: reg:linear is now deprecated in favor of reg:squarederror.\n",
            "Fitting estimator with 40 features.\n",
            "[23:54:35] WARNING: /workspace/src/objective/regression_obj.cu:152: reg:linear is now deprecated in favor of reg:squarederror.\n",
            "Fitting estimator with 39 features.\n",
            "[23:54:36] WARNING: /workspace/src/objective/regression_obj.cu:152: reg:linear is now deprecated in favor of reg:squarederror.\n",
            "Fitting estimator with 38 features.\n",
            "[23:54:36] WARNING: /workspace/src/objective/regression_obj.cu:152: reg:linear is now deprecated in favor of reg:squarederror.\n",
            "Fitting estimator with 37 features.\n",
            "[23:54:37] WARNING: /workspace/src/objective/regression_obj.cu:152: reg:linear is now deprecated in favor of reg:squarederror.\n",
            "Fitting estimator with 36 features.\n",
            "[23:54:38] WARNING: /workspace/src/objective/regression_obj.cu:152: reg:linear is now deprecated in favor of reg:squarederror.\n",
            "Fitting estimator with 35 features.\n",
            "[23:54:38] WARNING: /workspace/src/objective/regression_obj.cu:152: reg:linear is now deprecated in favor of reg:squarederror.\n",
            "Fitting estimator with 34 features.\n",
            "[23:54:39] WARNING: /workspace/src/objective/regression_obj.cu:152: reg:linear is now deprecated in favor of reg:squarederror.\n",
            "Fitting estimator with 33 features.\n",
            "[23:54:39] WARNING: /workspace/src/objective/regression_obj.cu:152: reg:linear is now deprecated in favor of reg:squarederror.\n",
            "Fitting estimator with 32 features.\n",
            "[23:54:40] WARNING: /workspace/src/objective/regression_obj.cu:152: reg:linear is now deprecated in favor of reg:squarederror.\n",
            "Fitting estimator with 31 features.\n",
            "[23:54:41] WARNING: /workspace/src/objective/regression_obj.cu:152: reg:linear is now deprecated in favor of reg:squarederror.\n",
            "Fitting estimator with 30 features.\n",
            "[23:54:42] WARNING: /workspace/src/objective/regression_obj.cu:152: reg:linear is now deprecated in favor of reg:squarederror.\n",
            "[23:54:43] WARNING: /workspace/src/objective/regression_obj.cu:152: reg:linear is now deprecated in favor of reg:squarederror.\n",
            "CPU times: user 14.9 s, sys: 9.3 s, total: 24.2 s\n",
            "Wall time: 24.1 s\n"
          ],
          "name": "stdout"
        },
        {
          "output_type": "execute_result",
          "data": {
            "text/plain": [
              "RFE(estimator=XGBRFRegressor(base_score=0.5, colsample_bylevel=1,\n",
              "                             colsample_bynode=0.8, colsample_bytree=1, gamma=0,\n",
              "                             learning_rate=1, max_delta_step=0, max_depth=3,\n",
              "                             min_child_weight=1, missing=None, n_estimators=100,\n",
              "                             n_jobs=1, nthread=None, objective='reg:linear',\n",
              "                             random_state=0, reg_alpha=0, reg_lambda=1,\n",
              "                             scale_pos_weight=1, seed=None, silent=None,\n",
              "                             subsample=0.8, tree_method='gpu_hist',\n",
              "                             verbosity=1),\n",
              "    n_features_to_select=None, step=1, verbose=2)"
            ]
          },
          "metadata": {
            "tags": []
          },
          "execution_count": 17
        }
      ]
    },
    {
      "cell_type": "code",
      "metadata": {
        "colab_type": "code",
        "id": "Brf2uSDUuSN-",
        "colab": {}
      },
      "source": [
        "sel = X.columns[rfe.get_support(indices=True)]"
      ],
      "execution_count": 0,
      "outputs": []
    },
    {
      "cell_type": "code",
      "metadata": {
        "colab_type": "code",
        "id": "i-nHSh7JpNL2",
        "colab": {}
      },
      "source": [
        "X = X[sel]"
      ],
      "execution_count": 0,
      "outputs": []
    },
    {
      "cell_type": "code",
      "metadata": {
        "colab_type": "code",
        "id": "imklLGNu8Cg3",
        "colab": {}
      },
      "source": [
        "X_train, X_test = X[:27000], X[27000:]\n",
        "y_train, y_test = y[:27000], y[27000:]"
      ],
      "execution_count": 0,
      "outputs": []
    },
    {
      "cell_type": "code",
      "metadata": {
        "colab_type": "code",
        "id": "6zvGhEdISD_o",
        "colab": {}
      },
      "source": [
        "def score(params):\n",
        "    estimator = xgb.XGBRFRegressor(**params)\n",
        "    estimator.fit(X_train, y_train)\n",
        "    predictions = estimator.predict(X_test)\n",
        "    loss = mean_absolute_error(y_test, np.array(predictions))\n",
        "    del estimator, predictions\n",
        "    gc.collect()\n",
        "    return {'loss': loss, 'status': STATUS_OK}"
      ],
      "execution_count": 0,
      "outputs": []
    },
    {
      "cell_type": "code",
      "metadata": {
        "colab_type": "code",
        "id": "r1ozj9ey6Al-",
        "colab": {}
      },
      "source": [
        "def optimize(evals, trials, optimizer=tpe.suggest, random_state=0):\n",
        "    space = {\n",
        "        'n_estimators': hp.choice('n_estimators', np.arange(200, 600, dtype=int)),\n",
        "        'eta': hp.quniform('eta', 0.025, 0.25, 0.025), # A problem with max_depth casted to float instead of int with the hp.quniform method.\n",
        "        'max_depth':  hp.choice('max_depth', np.arange(1, 14, dtype=int)),\n",
        "        'min_child_weight': hp.quniform('min_child_weight', 1, 10, 1),\n",
        "        'subsample': hp.quniform('subsample', 0.7, 1, 0.05),\n",
        "        'gamma': hp.quniform('gamma', 0.5, 1, 0.05),\n",
        "        'colsample_bytree': hp.quniform('colsample_bytree', 0.7, 1, 0.05),\n",
        "        'alpha' :  hp.quniform('alpha', 0, 10, 1),\n",
        "        'lambda': hp.quniform('lambda', 1, 2, 0.1),\n",
        "        #'nthread': cores,\n",
        "        'objective': 'reg:squarederror',\n",
        "        'tree_method': 'gpu_hist',\n",
        "        #'n_jobs': -1,\n",
        "        'seed': random_state\n",
        "    }\n",
        "    best = fmin(score, space, algo=tpe.suggest, max_evals=evals, trials = trials)\n",
        "    return best"
      ],
      "execution_count": 0,
      "outputs": []
    },
    {
      "cell_type": "code",
      "metadata": {
        "colab_type": "code",
        "id": "aXFA7OSy6Y9D",
        "outputId": "2d2a358a-54fb-4d48-bea4-3ac461e1ce15",
        "colab": {
          "base_uri": "https://localhost:8080/",
          "height": 72
        }
      },
      "source": [
        "%%time\n",
        "trials = Trials()\n",
        "n= 1000\n",
        "best_param = optimize(evals = n,\n",
        "                      optimizer=tpe.suggest,\n",
        "                      trials = trials)"
      ],
      "execution_count": 30,
      "outputs": [
        {
          "output_type": "stream",
          "text": [
            "100%|██████████| 1000/1000 [1:41:23<00:00,  6.08s/it, best loss: 72.54564448829933]\n",
            "CPU times: user 1h 15min 36s, sys: 25min 46s, total: 1h 41min 23s\n",
            "Wall time: 1h 41min 23s\n"
          ],
          "name": "stdout"
        }
      ]
    },
    {
      "cell_type": "code",
      "metadata": {
        "colab_type": "code",
        "id": "n6Bq1C5RTD_8",
        "colab": {
          "base_uri": "https://localhost:8080/",
          "height": 189
        },
        "outputId": "9b31e461-a4bb-4a0f-dccc-233a29bfc9d5"
      },
      "source": [
        "best_param['objective'] = 'reg:squarederror'\n",
        "best_param['tree_method'] = 'gpu_hist'"
      ],
      "execution_count": 1,
      "outputs": [
        {
          "output_type": "error",
          "ename": "NameError",
          "evalue": "ignored",
          "traceback": [
            "\u001b[0;31m---------------------------------------------------------------------------\u001b[0m",
            "\u001b[0;31mNameError\u001b[0m                                 Traceback (most recent call last)",
            "\u001b[0;32m<ipython-input-1-d5c1d4a32aac>\u001b[0m in \u001b[0;36m<module>\u001b[0;34m()\u001b[0m\n\u001b[0;32m----> 1\u001b[0;31m \u001b[0mbest_param\u001b[0m\u001b[0;34m[\u001b[0m\u001b[0;34m'objective'\u001b[0m\u001b[0;34m]\u001b[0m \u001b[0;34m=\u001b[0m \u001b[0;34m'reg:squarederror'\u001b[0m\u001b[0;34m\u001b[0m\u001b[0;34m\u001b[0m\u001b[0m\n\u001b[0m\u001b[1;32m      2\u001b[0m \u001b[0mbest_param\u001b[0m\u001b[0;34m[\u001b[0m\u001b[0;34m'tree_method'\u001b[0m\u001b[0;34m]\u001b[0m \u001b[0;34m=\u001b[0m \u001b[0;34m'gpu_hist'\u001b[0m\u001b[0;34m\u001b[0m\u001b[0;34m\u001b[0m\u001b[0m\n",
            "\u001b[0;31mNameError\u001b[0m: name 'best_param' is not defined"
          ]
        }
      ]
    },
    {
      "cell_type": "code",
      "metadata": {
        "colab_type": "code",
        "id": "schGJB2EnqwH",
        "colab": {}
      },
      "source": [
        "best_param = {'alpha': 5.0,\n",
        " 'colsample_bytree': 1.0,\n",
        " 'eta': 0.125,\n",
        " 'gamma': 0.75,\n",
        " 'lambda': 1.2000000000000002,\n",
        " 'max_depth': 6,\n",
        " 'min_child_weight': 9.0,\n",
        " 'n_estimators': 177,\n",
        " 'objective': 'reg:squarederror',\n",
        " 'subsample': 1.0}"
      ],
      "execution_count": 0,
      "outputs": []
    },
    {
      "cell_type": "code",
      "metadata": {
        "colab_type": "code",
        "id": "MpJln68cnSoE",
        "colab": {}
      },
      "source": [
        "estimator = xgb.XGBRFRegressor(**best_param)"
      ],
      "execution_count": 0,
      "outputs": []
    },
    {
      "cell_type": "code",
      "metadata": {
        "colab_type": "code",
        "id": "KIedHAMRngUG",
        "outputId": "12352a54-fd41-404b-ced2-d46fe96c473a",
        "colab": {
          "base_uri": "https://localhost:8080/",
          "height": 199
        }
      },
      "source": [
        "%%time\n",
        "estimator.fit(X_train, y_train)"
      ],
      "execution_count": 25,
      "outputs": [
        {
          "output_type": "stream",
          "text": [
            "CPU times: user 9.67 s, sys: 12.6 ms, total: 9.68 s\n",
            "Wall time: 9.7 s\n"
          ],
          "name": "stdout"
        },
        {
          "output_type": "execute_result",
          "data": {
            "text/plain": [
              "XGBRFRegressor(alpha=5.0, base_score=0.5, colsample_bylevel=1,\n",
              "               colsample_bynode=0.8, colsample_bytree=1.0, eta=0.125,\n",
              "               gamma=0.75, lambda=1.2000000000000002, learning_rate=1,\n",
              "               max_delta_step=0, max_depth=6, min_child_weight=9.0,\n",
              "               missing=None, n_estimators=177, n_jobs=1, nthread=None,\n",
              "               objective='reg:squarederror', random_state=0, reg_alpha=0,\n",
              "               reg_lambda=1, scale_pos_weight=1, seed=None, silent=None,\n",
              "               subsample=1.0, verbosity=1)"
            ]
          },
          "metadata": {
            "tags": []
          },
          "execution_count": 25
        }
      ]
    },
    {
      "cell_type": "code",
      "metadata": {
        "colab_type": "code",
        "id": "y_BbAHMNn_G3",
        "outputId": "fd9c9249-e32d-415c-9d85-16cc797ccb53",
        "colab": {
          "base_uri": "https://localhost:8080/",
          "height": 35
        }
      },
      "source": [
        "estimator.score(X_test, y_test)"
      ],
      "execution_count": 26,
      "outputs": [
        {
          "output_type": "execute_result",
          "data": {
            "text/plain": [
              "-0.0010718319840954393"
            ]
          },
          "metadata": {
            "tags": []
          },
          "execution_count": 26
        }
      ]
    },
    {
      "cell_type": "code",
      "metadata": {
        "colab_type": "code",
        "id": "7_98e4hCpZQB",
        "colab": {}
      },
      "source": [
        "test = pd.read_csv('/content/dataset/test.csv')"
      ],
      "execution_count": 0,
      "outputs": []
    },
    {
      "cell_type": "code",
      "metadata": {
        "colab_type": "code",
        "id": "rTRFTuWyPgci",
        "outputId": "3777c15c-66ec-4c79-fe49-9a8eefc1afa2",
        "colab": {
          "base_uri": "https://localhost:8080/",
          "height": 53
        }
      },
      "source": [
        "%%time\n",
        "X_sub = prepare_df(test.copy())"
      ],
      "execution_count": 28,
      "outputs": [
        {
          "output_type": "stream",
          "text": [
            "CPU times: user 350 ms, sys: 23.3 ms, total: 374 ms\n",
            "Wall time: 380 ms\n"
          ],
          "name": "stdout"
        }
      ]
    },
    {
      "cell_type": "code",
      "metadata": {
        "colab_type": "code",
        "id": "UMCzfgx1PnVc",
        "colab": {}
      },
      "source": [
        "X_sub['date_time'] = X_sub['date_time'].dt.hour"
      ],
      "execution_count": 0,
      "outputs": []
    },
    {
      "cell_type": "code",
      "metadata": {
        "colab_type": "code",
        "id": "Licfz0qUPpf0",
        "colab": {}
      },
      "source": [
        "X_sub = X_sub[sel]"
      ],
      "execution_count": 0,
      "outputs": []
    },
    {
      "cell_type": "code",
      "metadata": {
        "colab_type": "code",
        "id": "rCBWWOmvPwsm",
        "colab": {}
      },
      "source": [
        "test['air_pollution_index'] = estimator.predict(X_sub)"
      ],
      "execution_count": 0,
      "outputs": []
    },
    {
      "cell_type": "code",
      "metadata": {
        "colab_type": "code",
        "id": "8y-tTuSHQMtZ",
        "colab": {}
      },
      "source": [
        "test = test.reset_index()"
      ],
      "execution_count": 0,
      "outputs": []
    },
    {
      "cell_type": "code",
      "metadata": {
        "colab_type": "code",
        "id": "Y2jqm236P1IP",
        "colab": {}
      },
      "source": [
        "test.to_csv('sub3.csv', columns = ['date_time', 'air_pollution_index'], index = False)"
      ],
      "execution_count": 0,
      "outputs": []
    }
  ]
}