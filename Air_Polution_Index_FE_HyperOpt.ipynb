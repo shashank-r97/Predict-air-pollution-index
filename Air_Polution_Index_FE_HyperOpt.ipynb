{
  "nbformat": 4,
  "nbformat_minor": 0,
  "metadata": {
    "colab": {
      "name": "Air Polution Index FE HyperOpt.ipynb",
      "provenance": [],
      "mount_file_id": "https://gist.github.com/shashank-r97/63dda4ba0f470f964c1478abed709b10#file-air-polution-index-fe-ipynb",
      "authorship_tag": "ABX9TyN90ggAfzLQxhTNH7j7MLbL"
    },
    "kernelspec": {
      "name": "python3",
      "display_name": "Python 3"
    },
    "accelerator": "GPU"
  },
  "cells": [
    {
      "cell_type": "code",
      "metadata": {
        "id": "J3HaXePqoYO4",
        "colab_type": "code",
        "colab": {}
      },
      "source": [
        "#!unzip \"/content/drive/My Drive/Data/fc33077e-6-dataset.zip\""
      ],
      "execution_count": 0,
      "outputs": []
    },
    {
      "cell_type": "code",
      "metadata": {
        "id": "0g5bh-JGrHgo",
        "colab_type": "code",
        "colab": {}
      },
      "source": [
        "#!pip install catboost\n",
        "#!pip install -U yellowbrick\n",
        "#!pip install lightgbm"
      ],
      "execution_count": 0,
      "outputs": []
    },
    {
      "cell_type": "code",
      "metadata": {
        "id": "Up_4b76uuJr1",
        "colab_type": "code",
        "outputId": "988f1c09-bf55-41dd-cbfc-380085bf1a77",
        "colab": {
          "base_uri": "https://localhost:8080/",
          "height": 73
        }
      },
      "source": [
        "import pandas as pd\n",
        "import numpy as np\n",
        "from sklearn.ensemble import RandomForestRegressor\n",
        "from sklearn.feature_selection import VarianceThreshold\n",
        "from sklearn.feature_selection import SelectFromModel\n",
        "from sklearn.feature_selection import RFE\n",
        "from yellowbrick.model_selection import FeatureImportances\n",
        "from sklearn.metrics import mean_squared_error\n",
        "from hyperopt import hp\n",
        "import lightgbm as lgb\n",
        "import xgboost as xgb\n",
        "import catboost as ctb\n",
        "from catboost import CatBoostRegressor\n",
        "from hyperopt import fmin, tpe, STATUS_OK, STATUS_FAIL, Trials\n",
        "pd.set_option('display.max_columns',None)\n",
        "pd.set_option('display.max_rows',None)"
      ],
      "execution_count": 3,
      "outputs": [
        {
          "output_type": "stream",
          "text": [
            "/usr/local/lib/python3.6/dist-packages/sklearn/utils/deprecation.py:144: FutureWarning: The sklearn.metrics.classification module is  deprecated in version 0.22 and will be removed in version 0.24. The corresponding classes / functions should instead be imported from sklearn.metrics. Anything that cannot be imported from sklearn.metrics is now part of the private API.\n",
            "  warnings.warn(message, FutureWarning)\n"
          ],
          "name": "stderr"
        }
      ]
    },
    {
      "cell_type": "code",
      "metadata": {
        "id": "ZtUeeGCmuT_U",
        "colab_type": "code",
        "outputId": "7c0e4014-76c3-4d93-a859-3b71e6cb64c2",
        "colab": {
          "base_uri": "https://localhost:8080/",
          "height": 53
        }
      },
      "source": [
        "%%time\n",
        "train = pd.read_csv('/content/dataset/train.csv')"
      ],
      "execution_count": 4,
      "outputs": [
        {
          "output_type": "stream",
          "text": [
            "CPU times: user 40.8 ms, sys: 14.4 ms, total: 55.2 ms\n",
            "Wall time: 55.5 ms\n"
          ],
          "name": "stdout"
        }
      ]
    },
    {
      "cell_type": "code",
      "metadata": {
        "id": "ZUKL0icnuaxw",
        "colab_type": "code",
        "colab": {}
      },
      "source": [
        "X = train.drop(columns = ['air_pollution_index'])\n",
        "y = train['air_pollution_index']"
      ],
      "execution_count": 0,
      "outputs": []
    },
    {
      "cell_type": "code",
      "metadata": {
        "id": "TTA4pBy0pEh9",
        "colab_type": "code",
        "outputId": "2fb35653-381f-42e3-9125-cac6110c86b8",
        "colab": {
          "base_uri": "https://localhost:8080/",
          "height": 35
        }
      },
      "source": [
        "X.shape"
      ],
      "execution_count": 6,
      "outputs": [
        {
          "output_type": "execute_result",
          "data": {
            "text/plain": [
              "(33750, 13)"
            ]
          },
          "metadata": {
            "tags": []
          },
          "execution_count": 6
        }
      ]
    },
    {
      "cell_type": "code",
      "metadata": {
        "id": "gKo9jksxpGAI",
        "colab_type": "code",
        "colab": {}
      },
      "source": [
        "def prepare_df(train):\n",
        "    org_keys = train.columns.tolist()\n",
        "    \n",
        "    train['is_holiday'] = np.where(train['is_holiday'] == 'None', False, True)\n",
        "    train['date_time'] = pd.to_datetime(train['date_time'])\n",
        "    \n",
        "    train.set_index('date_time', inplace = True)\n",
        "    \n",
        "    days = ['01d', '03d', '07d', '14d', '30d']\n",
        "    \n",
        "    sum_attributes = ['is_holiday', 'rain_p_h', 'snow_p_h']\n",
        "\n",
        "    for val in sum_attributes:\n",
        "        for day in days:\n",
        "            train['num_'+val+'_'+day] = train.rolling(day)[val].sum()\n",
        "            \n",
        "    weather_types = train['weather_type'].unique().tolist()\n",
        "    for weather in weather_types:\n",
        "        train[weather] = np.where(train['weather_type'] == weather, 1, 0)\n",
        "    \n",
        "    train.drop(columns = 'weather_type', inplace = True)\n",
        "    \n",
        "    avg_attributes = ['humidity', 'wind_speed', 'wind_direction', 'visibility_in_miles', 'dew_point', 'temperature', \n",
        "                     'rain_p_h', 'snow_p_h', 'clouds_all', 'traffic_volume'] + weather_types\n",
        "\n",
        "    for val in avg_attributes:\n",
        "        for day in days:\n",
        "            train['avg_'+val+'_'+day] = train.rolling(day)[val].mean()\n",
        "            \n",
        "    for column in train.columns:\n",
        "        if 'avg' in column:\n",
        "            train[column+'_diff'] = train[column[4:-4]] - train[column]\n",
        "            \n",
        "    return train.reset_index()"
      ],
      "execution_count": 0,
      "outputs": []
    },
    {
      "cell_type": "code",
      "metadata": {
        "id": "iw-sixOlpJDQ",
        "colab_type": "code",
        "outputId": "ee639f7b-9024-499c-8dd6-5e78c1ad571d",
        "colab": {
          "base_uri": "https://localhost:8080/",
          "height": 53
        }
      },
      "source": [
        "%%time\n",
        "X = prepare_df(X.copy())"
      ],
      "execution_count": 8,
      "outputs": [
        {
          "output_type": "stream",
          "text": [
            "CPU times: user 585 ms, sys: 60.7 ms, total: 645 ms\n",
            "Wall time: 645 ms\n"
          ],
          "name": "stdout"
        }
      ]
    },
    {
      "cell_type": "code",
      "metadata": {
        "id": "i9XEUAnLpK2E",
        "colab_type": "code",
        "outputId": "5be84a23-15da-4514-9e03-9d75c26f66f2",
        "colab": {
          "base_uri": "https://localhost:8080/",
          "height": 35
        }
      },
      "source": [
        "X.shape"
      ],
      "execution_count": 9,
      "outputs": [
        {
          "output_type": "execute_result",
          "data": {
            "text/plain": [
              "(33750, 248)"
            ]
          },
          "metadata": {
            "tags": []
          },
          "execution_count": 9
        }
      ]
    },
    {
      "cell_type": "code",
      "metadata": {
        "id": "HD1k1nnquYRi",
        "colab_type": "code",
        "colab": {}
      },
      "source": [
        "X['date_time'] = X['date_time'].dt.hour"
      ],
      "execution_count": 0,
      "outputs": []
    },
    {
      "cell_type": "code",
      "metadata": {
        "id": "XpVMv1h49T-k",
        "colab_type": "code",
        "outputId": "c79ee234-e625-4c8f-f3aa-1f95737f826a",
        "colab": {
          "base_uri": "https://localhost:8080/",
          "height": 53
        }
      },
      "source": [
        "%%time\n",
        "selector = VarianceThreshold(0.1)\n",
        "selector.fit(X)"
      ],
      "execution_count": 11,
      "outputs": [
        {
          "output_type": "stream",
          "text": [
            "CPU times: user 393 ms, sys: 84.7 ms, total: 478 ms\n",
            "Wall time: 479 ms\n"
          ],
          "name": "stdout"
        }
      ]
    },
    {
      "cell_type": "code",
      "metadata": {
        "id": "We0anDMR9UPA",
        "colab_type": "code",
        "colab": {}
      },
      "source": [
        "sel = X.columns[selector.get_support(indices=True)]"
      ],
      "execution_count": 0,
      "outputs": []
    },
    {
      "cell_type": "code",
      "metadata": {
        "id": "CIdGsDI89UJu",
        "colab_type": "code",
        "colab": {}
      },
      "source": [
        "X = X[sel]"
      ],
      "execution_count": 0,
      "outputs": []
    },
    {
      "cell_type": "code",
      "metadata": {
        "id": "P7xmtVtLtyd8",
        "colab_type": "code",
        "outputId": "d0f1d4d5-826b-4413-9c57-a3168488d197",
        "colab": {
          "base_uri": "https://localhost:8080/",
          "height": 53
        }
      },
      "source": [
        "%%time\n",
        "fsel = SelectFromModel(CatBoostRegressor(task_type=\"GPU\", verbose=0), max_features=100)\n",
        "fsel.fit(X, y)"
      ],
      "execution_count": 14,
      "outputs": [
        {
          "output_type": "stream",
          "text": [
            "CPU times: user 19.1 s, sys: 7.68 s, total: 26.8 s\n",
            "Wall time: 22.6 s\n"
          ],
          "name": "stdout"
        }
      ]
    },
    {
      "cell_type": "code",
      "metadata": {
        "id": "QZR5BHdUuSZP",
        "colab_type": "code",
        "colab": {}
      },
      "source": [
        "sel = X.columns[fsel.get_support(indices=True)]"
      ],
      "execution_count": 0,
      "outputs": []
    },
    {
      "cell_type": "code",
      "metadata": {
        "id": "huMBNp-i-GdQ",
        "colab_type": "code",
        "outputId": "7864202b-3068-48ac-fe84-cf53870af546",
        "colab": {
          "base_uri": "https://localhost:8080/",
          "height": 35
        }
      },
      "source": [
        "len(sel)"
      ],
      "execution_count": 16,
      "outputs": [
        {
          "output_type": "execute_result",
          "data": {
            "text/plain": [
              "61"
            ]
          },
          "metadata": {
            "tags": []
          },
          "execution_count": 16
        }
      ]
    },
    {
      "cell_type": "code",
      "metadata": {
        "id": "IOa605m28ALs",
        "colab_type": "code",
        "colab": {}
      },
      "source": [
        "X = X[sel]"
      ],
      "execution_count": 0,
      "outputs": []
    },
    {
      "cell_type": "code",
      "metadata": {
        "id": "H1E0GKB4uSVO",
        "colab_type": "code",
        "colab": {}
      },
      "source": [
        "rfe = RFE(RandomForestRegressor(n_jobs = -1), step = 5, verbose = 2)"
      ],
      "execution_count": 0,
      "outputs": []
    },
    {
      "cell_type": "code",
      "metadata": {
        "id": "goyESr0quSRi",
        "colab_type": "code",
        "outputId": "1cf35007-ad39-4701-d8cf-a5efa3ff685f",
        "colab": {
          "base_uri": "https://localhost:8080/",
          "height": 90
        }
      },
      "source": [
        "%%time\n",
        "rfe.fit(X, y)"
      ],
      "execution_count": 0,
      "outputs": [
        {
          "output_type": "stream",
          "text": [
            "Fitting estimator with 61 features.\n",
            "Fitting estimator with 56 features.\n",
            "Fitting estimator with 51 features.\n",
            "Fitting estimator with 46 features.\n"
          ],
          "name": "stdout"
        }
      ]
    },
    {
      "cell_type": "code",
      "metadata": {
        "id": "Brf2uSDUuSN-",
        "colab_type": "code",
        "colab": {}
      },
      "source": [
        "sel = X.columns[rfe.get_support(indices=True)]"
      ],
      "execution_count": 0,
      "outputs": []
    },
    {
      "cell_type": "code",
      "metadata": {
        "id": "i-nHSh7JpNL2",
        "colab_type": "code",
        "colab": {}
      },
      "source": [
        "X = X[sel]"
      ],
      "execution_count": 0,
      "outputs": []
    },
    {
      "cell_type": "code",
      "metadata": {
        "id": "imklLGNu8Cg3",
        "colab_type": "code",
        "colab": {}
      },
      "source": [
        "X_train, X_test = X[:27000], X[27000:]\n",
        "y_train, y_test = y[:27000], y[27000:]"
      ],
      "execution_count": 0,
      "outputs": []
    },
    {
      "cell_type": "code",
      "metadata": {
        "id": "r1ozj9ey6Al-",
        "colab_type": "code",
        "colab": {}
      },
      "source": [
        "# XGB parameters\n",
        "xgb_reg_params = {\n",
        "    'learning_rate':    hp.choice('learning_rate',    np.arange(0.05, 0.31, 0.05)),\n",
        "    'max_depth':        hp.choice('max_depth',        np.arange(5, 16, 1, dtype=int)),\n",
        "    'min_child_weight': hp.choice('min_child_weight', np.arange(1, 8, 1, dtype=int)),\n",
        "    'colsample_bytree': hp.choice('colsample_bytree', np.arange(0.3, 0.8, 0.1)),\n",
        "    'subsample':        hp.uniform('subsample', 0.8, 1),\n",
        "    'n_estimators':     100,\n",
        "    'objective': 'reg:squarederror',\n",
        "    'tree_method': \"gpu_hist\"\n",
        "}\n",
        "xgb_fit_params = {\n",
        "    'eval_metric': 'rmse',\n",
        "    'early_stopping_rounds': 10,\n",
        "    'verbose': False\n",
        "}\n",
        "xgb_para = dict()\n",
        "xgb_para['reg_params'] = xgb_reg_params\n",
        "xgb_para['fit_params'] = xgb_fit_params\n",
        "xgb_para['loss_func' ] = lambda y, pred: np.sqrt(mean_squared_error(y, pred))\n",
        "\n",
        "\n",
        "# LightGBM parameters\n",
        "lgb_reg_params = {\n",
        "    'learning_rate':    hp.choice('learning_rate',    np.arange(0.05, 0.31, 0.05)),\n",
        "    'max_depth':        hp.choice('max_depth',        np.arange(5, 16, 1, dtype=int)),\n",
        "    'min_child_weight': hp.choice('min_child_weight', np.arange(1, 8, 1, dtype=int)),\n",
        "    'colsample_bytree': hp.choice('colsample_bytree', np.arange(0.3, 0.8, 0.1)),\n",
        "    'subsample':        hp.uniform('subsample', 0.8, 1),\n",
        "    'n_estimators':     100\n",
        "}\n",
        "lgb_fit_params = {\n",
        "    'eval_metric': 'l2',\n",
        "    'early_stopping_rounds': 10,\n",
        "    'verbose': False\n",
        "}\n",
        "lgb_para = dict()\n",
        "lgb_para['reg_params'] = lgb_reg_params\n",
        "lgb_para['fit_params'] = lgb_fit_params\n",
        "lgb_para['loss_func' ] = lambda y, pred: np.sqrt(mean_squared_error(y, pred))\n",
        "\n",
        "\n",
        "# CatBoost parameters\n",
        "ctb_reg_params = {\n",
        "    'learning_rate':     hp.choice('learning_rate',     np.arange(0.05, 0.31, 0.05)),\n",
        "    'max_depth':         hp.choice('max_depth',         np.arange(5, 16, 1, dtype=int)),\n",
        "    'l2_leaf_reg': hp.choice('l2_leaf_reg', np.arange(3, 300, 25)),\n",
        "    'n_estimators':      100,\n",
        "    'task_type': \"GPU\",\n",
        "}\n",
        "ctb_fit_params = {\n",
        "    'early_stopping_rounds': 10,\n",
        "    'verbose': False,\n",
        "}\n",
        "ctb_para = dict()\n",
        "ctb_para['reg_params'] = ctb_reg_params\n",
        "ctb_para['fit_params'] = ctb_fit_params\n",
        "ctb_para['loss_func' ] = lambda y, pred: np.sqrt(mean_squared_error(y, pred))"
      ],
      "execution_count": 0,
      "outputs": []
    },
    {
      "cell_type": "code",
      "metadata": {
        "id": "aXFA7OSy6Y9D",
        "colab_type": "code",
        "colab": {}
      },
      "source": [
        "class HPOpt(object):\n",
        "\n",
        "    def __init__(self, x_train, x_test, y_train, y_test):\n",
        "        self.x_train = x_train\n",
        "        self.x_test  = x_test\n",
        "        self.y_train = y_train\n",
        "        self.y_test  = y_test\n",
        "\n",
        "    def process(self, fn_name, space, trials, algo, max_evals):\n",
        "        fn = getattr(self, fn_name)\n",
        "        try:\n",
        "            result = fmin(fn=fn, space=space, algo=algo, max_evals=max_evals, trials=trials)\n",
        "        except Exception as e:\n",
        "            return {'status': STATUS_FAIL,\n",
        "                    'exception': str(e)}\n",
        "        return result, trials\n",
        "\n",
        "    def xgb_reg(self, para):\n",
        "        reg = xgb.XGBRegressor(**para['reg_params'])\n",
        "        return self.train_reg(reg, para)\n",
        "\n",
        "    def lgb_reg(self, para):\n",
        "        reg = lgb.LGBMRegressor(**para['reg_params'])\n",
        "        return self.train_reg(reg, para)\n",
        "\n",
        "    def ctb_reg(self, para):\n",
        "        reg = ctb.CatBoostRegressor(**para['reg_params'])\n",
        "        return self.train_reg(reg, para)\n",
        "\n",
        "    def train_reg(self, reg, para):\n",
        "        reg.fit(self.x_train, self.y_train,\n",
        "                eval_set=[(self.x_test, self.y_test)],\n",
        "                **para['fit_params'])\n",
        "        pred = reg.predict(self.x_test)\n",
        "        loss = para['loss_func'](self.y_test, pred)\n",
        "        return {'loss': loss, 'status': STATUS_OK}"
      ],
      "execution_count": 0,
      "outputs": []
    },
    {
      "cell_type": "code",
      "metadata": {
        "id": "pZ0rKVi59Glv",
        "colab_type": "code",
        "colab": {}
      },
      "source": [
        "obj = HPOpt(X_train, X_test, y_train, y_test)\n",
        "\n",
        "xgb_opt = obj.process(fn_name='xgb_reg', space=xgb_para, trials=Trials(), algo=tpe.suggest, max_evals=1000)\n",
        "lgb_opt = obj.process(fn_name='lgb_reg', space=lgb_para, trials=Trials(), algo=tpe.suggest, max_evals=1000)\n",
        "ctb_opt = obj.process(fn_name='ctb_reg', space=ctb_para, trials=Trials(), algo=tpe.suggest, max_evals=1000)"
      ],
      "execution_count": 0,
      "outputs": []
    },
    {
      "cell_type": "code",
      "metadata": {
        "id": "-RQl0bQuT3sD",
        "colab_type": "code",
        "colab": {}
      },
      "source": [
        "for key in xgb_opt[0].keys():\n",
        "    if key in xgb_reg_params.keys():\n",
        "        xgb_reg_params[key] = xgb_opt[0][key]\n",
        "\n",
        "for key in lgb_opt[0].keys():\n",
        "    if key in lgb_reg_params.keys():\n",
        "        lgb_reg_params[key] = lgb_opt[0][key]\n",
        "\n",
        "for key in ctb_opt[0].keys():\n",
        "    if key in ctb_reg_params.keys():\n",
        "        ctb_reg_params[key] = ctb_opt[0][key]"
      ],
      "execution_count": 0,
      "outputs": []
    },
    {
      "cell_type": "code",
      "metadata": {
        "id": "M5o5gFalpRID",
        "colab_type": "code",
        "colab": {}
      },
      "source": [
        "%%time\n",
        "xgb_opt = xgb.XGBRegressor(**xgb_reg_params)\n",
        "xgb_opt.fit(X_train, y_train)\n",
        "xgb_score = np.fabs(xgb_opt.score(X_test, y_test))"
      ],
      "execution_count": 0,
      "outputs": []
    },
    {
      "cell_type": "code",
      "metadata": {
        "id": "KcmL0lGXgCmC",
        "colab_type": "code",
        "colab": {}
      },
      "source": [
        "%%time\n",
        "lgb_opt = lgb.LGBMRegressor(**lgb_reg_params)\n",
        "lgb_opt.fit(X_train, y_train)\n",
        "lgb_score = np.fabs(lgb_opt.score(X_test, y_test))"
      ],
      "execution_count": 0,
      "outputs": []
    },
    {
      "cell_type": "code",
      "metadata": {
        "id": "kpGIPggQgL1l",
        "colab_type": "code",
        "colab": {}
      },
      "source": [
        "%%time\n",
        "ctb_opt = ctb.CatBoostRegressor(**ctb_reg_params)\n",
        "ctb_opt.fit(X_train, y_train)\n",
        "ctb_score = np.fabs(ctb_opt.score(X_test, y_test))"
      ],
      "execution_count": 0,
      "outputs": []
    },
    {
      "cell_type": "code",
      "metadata": {
        "id": "5YRUgZfzggWG",
        "colab_type": "code",
        "colab": {}
      },
      "source": [
        "score = xgb_score + lgb_score + ctb_score"
      ],
      "execution_count": 0,
      "outputs": []
    },
    {
      "cell_type": "code",
      "metadata": {
        "id": "7_98e4hCpZQB",
        "colab_type": "code",
        "colab": {}
      },
      "source": [
        "test = pd.read_csv('/content/dataset/test.csv')"
      ],
      "execution_count": 0,
      "outputs": []
    },
    {
      "cell_type": "code",
      "metadata": {
        "id": "rTRFTuWyPgci",
        "colab_type": "code",
        "colab": {}
      },
      "source": [
        "%%time\n",
        "X_sub = prepare_df(test.copy())"
      ],
      "execution_count": 0,
      "outputs": []
    },
    {
      "cell_type": "code",
      "metadata": {
        "id": "UMCzfgx1PnVc",
        "colab_type": "code",
        "colab": {}
      },
      "source": [
        "X_sub['date_time'] = X_sub['date_time'].dt.hour"
      ],
      "execution_count": 0,
      "outputs": []
    },
    {
      "cell_type": "code",
      "metadata": {
        "id": "Licfz0qUPpf0",
        "colab_type": "code",
        "colab": {}
      },
      "source": [
        "X_sub = X_sub[sel]"
      ],
      "execution_count": 0,
      "outputs": []
    },
    {
      "cell_type": "code",
      "metadata": {
        "id": "rCBWWOmvPwsm",
        "colab_type": "code",
        "colab": {}
      },
      "source": [
        "test['air_pollution_index_xgb'] = xgb_opt.predict(X_sub)\n",
        "test['air_pollution_index_lgb'] = lgb_opt.predict(X_sub)\n",
        "test['air_pollution_index_ctb'] = ctb_opt.predict(X_sub)"
      ],
      "execution_count": 0,
      "outputs": []
    },
    {
      "cell_type": "code",
      "metadata": {
        "id": "8y-tTuSHQMtZ",
        "colab_type": "code",
        "colab": {}
      },
      "source": [
        "test = test.reset_index()"
      ],
      "execution_count": 0,
      "outputs": []
    },
    {
      "cell_type": "code",
      "metadata": {
        "id": "AK8-puOxg4H3",
        "colab_type": "code",
        "colab": {}
      },
      "source": [
        "test['air_pollution_index'] = (test['air_pollution_index_xgb'] * xgb_score / score)\n",
        "  + (test['air_pollution_index'] * lgb_score / score) + (test['air_pollution_index'] * ctb_score / score)"
      ],
      "execution_count": 0,
      "outputs": []
    },
    {
      "cell_type": "code",
      "metadata": {
        "id": "Y2jqm236P1IP",
        "colab_type": "code",
        "colab": {}
      },
      "source": [
        "test.to_csv('/content/drive/My Drive/sub2.csv', columns = ['date_time', 'air_pollution_index'], index = False)"
      ],
      "execution_count": 0,
      "outputs": []
    }
  ]
}